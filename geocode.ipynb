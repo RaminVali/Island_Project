{
  "nbformat": 4,
  "nbformat_minor": 0,
  "metadata": {
    "colab": {
      "provenance": [],
      "include_colab_link": true
    },
    "kernelspec": {
      "name": "python3",
      "display_name": "Python 3"
    },
    "language_info": {
      "name": "python"
    }
  },
  "cells": [
    {
      "cell_type": "markdown",
      "metadata": {
        "id": "view-in-github",
        "colab_type": "text"
      },
      "source": [
        "<a href=\"https://colab.research.google.com/github/RaminVali/Island_Project/blob/main/geocode.ipynb\" target=\"_parent\"><img src=\"https://colab.research.google.com/assets/colab-badge.svg\" alt=\"Open In Colab\"/></a>"
      ]
    },
    {
      "cell_type": "code",
      "source": [
        "from google.colab import drive\n",
        "drive.mount('drive')"
      ],
      "metadata": {
        "colab": {
          "base_uri": "https://localhost:8080/"
        },
        "id": "PIlNvMp9ERB_",
        "outputId": "d5bcb864-1b05-476e-94fc-1c63a09c5da0"
      },
      "execution_count": 20,
      "outputs": [
        {
          "output_type": "stream",
          "name": "stdout",
          "text": [
            "Mounted at drive\n"
          ]
        }
      ]
    },
    {
      "cell_type": "markdown",
      "source": [
        "## Make sure you do some form of rate limiting when you want to read the data.\n",
        "\n",
        "https://stackoverflow.com/questions/40748687/python-api-rate-limiting-how-to-limit-api-calls-globally"
      ],
      "metadata": {
        "id": "t0V8wfjnpkKi"
      }
    },
    {
      "cell_type": "code",
      "execution_count": 4,
      "metadata": {
        "colab": {
          "base_uri": "https://localhost:8080/"
        },
        "id": "rtpXlaLfLGG8",
        "outputId": "5ca5a952-01bf-47b5-b2c9-d99ccaca37c6"
      },
      "outputs": [
        {
          "output_type": "stream",
          "name": "stdout",
          "text": [
            "Requirement already satisfied: googlemaps in /usr/local/lib/python3.10/dist-packages (4.10.0)\n",
            "Requirement already satisfied: requests<3.0,>=2.20.0 in /usr/local/lib/python3.10/dist-packages (from googlemaps) (2.27.1)\n",
            "Requirement already satisfied: urllib3<1.27,>=1.21.1 in /usr/local/lib/python3.10/dist-packages (from requests<3.0,>=2.20.0->googlemaps) (1.26.16)\n",
            "Requirement already satisfied: certifi>=2017.4.17 in /usr/local/lib/python3.10/dist-packages (from requests<3.0,>=2.20.0->googlemaps) (2023.5.7)\n",
            "Requirement already satisfied: charset-normalizer~=2.0.0 in /usr/local/lib/python3.10/dist-packages (from requests<3.0,>=2.20.0->googlemaps) (2.0.12)\n",
            "Requirement already satisfied: idna<4,>=2.5 in /usr/local/lib/python3.10/dist-packages (from requests<3.0,>=2.20.0->googlemaps) (3.4)\n"
          ]
        }
      ],
      "source": [
        "!pip install -U googlemaps"
      ]
    },
    {
      "cell_type": "code",
      "source": [
        "import googlemaps\n",
        "GOOGLE_API_KEY = 'Your Key HERE'\n",
        "gmaps = googlemaps.Client(key=GOOGLE_API_KEY)\n",
        "\n",
        "import pandas as pd"
      ],
      "metadata": {
        "id": "S-sXEThMD2Sa"
      },
      "execution_count": 17,
      "outputs": []
    },
    {
      "cell_type": "code",
      "source": [
        "import time\n",
        "PATH =  \"/content/drive/MyDrive/Colab Notebooks/Private_Island_Project/Island_Project/Data/\"\n",
        "TodaysDate = time.strftime(\"%d-%m-%Y\")\n",
        "filename = \"PIO-\"+TodaysDate +\".csv\"\n",
        "\n",
        "df = pd.read_csv(PATH +filename)\n"
      ],
      "metadata": {
        "id": "1YMqCh6BD2O8"
      },
      "execution_count": null,
      "outputs": []
    },
    {
      "cell_type": "code",
      "source": [
        "df_test = df.iloc[0:3]"
      ],
      "metadata": {
        "id": "sYsFSmfLD1_l"
      },
      "execution_count": 114,
      "outputs": []
    },
    {
      "cell_type": "code",
      "source": [
        "def extract_lat_long_via_component(component):\n",
        "  geocode_result = gmaps.geocode(component)\n",
        "  result = geocode_result[0]\n",
        "  lat = result['geometry']['location']['lat']\n",
        "  long = result['geometry']['location']['lng']\n",
        "  formatted_address = result['formatted_address']\n",
        "\n",
        "  return lat,long, formatted_address"
      ],
      "metadata": {
        "id": "f-WIgIKnZV7B"
      },
      "execution_count": 99,
      "outputs": []
    },
    {
      "cell_type": "code",
      "source": [
        "extract_lat_long_via_component('Blackbook Listing (ID 2867),\tSpain , Europe\t')\n"
      ],
      "metadata": {
        "colab": {
          "base_uri": "https://localhost:8080/"
        },
        "id": "802qnjPYZV4n",
        "outputId": "7eccbab9-c2f6-49c7-aa98-6f3d682d4472"
      },
      "execution_count": 100,
      "outputs": [
        {
          "output_type": "execute_result",
          "data": {
            "text/plain": [
              "(40.46366700000001, -3.74922, 'Spain')"
            ]
          },
          "metadata": {},
          "execution_count": 100
        }
      ]
    },
    {
      "cell_type": "code",
      "source": [
        "extract_lat_long_via_component('Rangyai Island\tThailand , Asia')"
      ],
      "metadata": {
        "colab": {
          "base_uri": "https://localhost:8080/"
        },
        "id": "tsIejPAZboch",
        "outputId": "7ef2dd6b-99ed-4ab1-92a3-ffceae751e22"
      },
      "execution_count": 105,
      "outputs": [
        {
          "output_type": "execute_result",
          "data": {
            "text/plain": [
              "(7.9556423,\n",
              " 98.44652769999999,\n",
              " 'Ko Rang Yai, Ko Kaeo, Mueang Phuket District, Phuket, Thailand')"
            ]
          },
          "metadata": {},
          "execution_count": 105
        }
      ]
    },
    {
      "cell_type": "code",
      "source": [
        "extract_lat_long_via_component('Long Coco Caye\tBelize , Central America')"
      ],
      "metadata": {
        "colab": {
          "base_uri": "https://localhost:8080/"
        },
        "id": "RL6tPh41boZ5",
        "outputId": "0d078f42-6eb3-4cd7-9253-1a79a0a93f2b"
      },
      "execution_count": 104,
      "outputs": [
        {
          "output_type": "execute_result",
          "data": {
            "text/plain": [
              "(16.55, -88.1, 'Long Coco Cay, Belize')"
            ]
          },
          "metadata": {},
          "execution_count": 104
        }
      ]
    },
    {
      "cell_type": "code",
      "source": [],
      "metadata": {
        "id": "pSSRxK_6boXf"
      },
      "execution_count": null,
      "outputs": []
    },
    {
      "cell_type": "code",
      "source": [
        "def get_coord(row):\n",
        "  componet = row[0]+', '+ row[1]\n",
        "  lat, long, address = extract_lat_long_via_component(componet)\n",
        "  return [lat, long, address]"
      ],
      "metadata": {
        "id": "2N1tu37rMKOi"
      },
      "execution_count": 115,
      "outputs": []
    },
    {
      "cell_type": "code",
      "source": [
        "df_test[['lat','long','address']] = df_test.apply(lambda x: pd.Series(get_coord(x)), axis = 1)\n",
        "df_test"
      ],
      "metadata": {
        "colab": {
          "base_uri": "https://localhost:8080/",
          "height": 610
        },
        "id": "DcsSUfAsMKME",
        "outputId": "a34cd9f8-d90b-4c8e-b99c-0dd013057296"
      },
      "execution_count": 121,
      "outputs": [
        {
          "output_type": "stream",
          "name": "stderr",
          "text": [
            "<ipython-input-121-583a79a225ca>:1: SettingWithCopyWarning: \n",
            "A value is trying to be set on a copy of a slice from a DataFrame.\n",
            "Try using .loc[row_indexer,col_indexer] = value instead\n",
            "\n",
            "See the caveats in the documentation: https://pandas.pydata.org/pandas-docs/stable/user_guide/indexing.html#returning-a-view-versus-a-copy\n",
            "  df_test[['lat','long','address']] = df_test.apply(lambda x: pd.Series(get_coord(x)), axis = 1)\n"
          ]
        },
        {
          "output_type": "execute_result",
          "data": {
            "text/plain": [
              "                          Name                    Region        Location  \\\n",
              "0               Rangyai Island           Thailand , Asia  East of Phuket   \n",
              "1  Blackbook Listing (ID 2867)            Spain , Europe             NaN   \n",
              "2               Long Coco Caye  Belize , Central America             NaN   \n",
              "\n",
              "  Development     Title            Type                        Price  \\\n",
              "0   Developed  Freehold  Private Island                $ 160,000,000   \n",
              "1   Developed  Freehold  Private Island  $100,000,000 - $200,000,000   \n",
              "2   Developed  Freehold  Private Island                $ 100,000,000   \n",
              "\n",
              "              Size                                         Lifestyles  \\\n",
              "0     110.00 Acres  Islands With Beaches, Large Acreage, Ocean Isl...   \n",
              "1  100 - 200 Acres  Large Acreage, Ocean Island, Turn Key, Income ...   \n",
              "2      38.00 Acres  Islands With Beaches, Large Acreage, Ocean Isl...   \n",
              "\n",
              "                                             Details  \\\n",
              "0  ['RANGYAI ISLAND', 'Located just east of the i...   \n",
              "1  ['BLACKBOOK LISTING', 'Large turnkey private i...   \n",
              "2  ['LONG COCO CAYE', 'The long and shapely 38-ac...   \n",
              "\n",
              "                                           Image_url             Seller_info  \\\n",
              "0  https://www.privateislandsonline.com/uploads/r...  Private Islands Online   \n",
              "1                                                NaN  Private Islands Online   \n",
              "2  https://www.privateislandsonline.com/uploads/r...  Private Islands Online   \n",
              "\n",
              "                                (lat, long, address)        lat       long  \\\n",
              "0  [7.9556423, 98.44652769999999, Ko Rang Yai, Ko...   7.955642  98.446528   \n",
              "1               [40.46366700000001, -3.74922, Spain]  40.463667  -3.749220   \n",
              "2              [16.55, -88.1, Long Coco Cay, Belize]  16.550000 -88.100000   \n",
              "\n",
              "                                             address  \n",
              "0  Ko Rang Yai, Ko Kaeo, Mueang Phuket District, ...  \n",
              "1                                              Spain  \n",
              "2                              Long Coco Cay, Belize  "
            ],
            "text/html": [
              "\n",
              "\n",
              "  <div id=\"df-d9fca1b1-6e47-4008-bd16-4d67a7468f56\">\n",
              "    <div class=\"colab-df-container\">\n",
              "      <div>\n",
              "<style scoped>\n",
              "    .dataframe tbody tr th:only-of-type {\n",
              "        vertical-align: middle;\n",
              "    }\n",
              "\n",
              "    .dataframe tbody tr th {\n",
              "        vertical-align: top;\n",
              "    }\n",
              "\n",
              "    .dataframe thead th {\n",
              "        text-align: right;\n",
              "    }\n",
              "</style>\n",
              "<table border=\"1\" class=\"dataframe\">\n",
              "  <thead>\n",
              "    <tr style=\"text-align: right;\">\n",
              "      <th></th>\n",
              "      <th>Name</th>\n",
              "      <th>Region</th>\n",
              "      <th>Location</th>\n",
              "      <th>Development</th>\n",
              "      <th>Title</th>\n",
              "      <th>Type</th>\n",
              "      <th>Price</th>\n",
              "      <th>Size</th>\n",
              "      <th>Lifestyles</th>\n",
              "      <th>Details</th>\n",
              "      <th>Image_url</th>\n",
              "      <th>Seller_info</th>\n",
              "      <th>(lat, long, address)</th>\n",
              "      <th>lat</th>\n",
              "      <th>long</th>\n",
              "      <th>address</th>\n",
              "    </tr>\n",
              "  </thead>\n",
              "  <tbody>\n",
              "    <tr>\n",
              "      <th>0</th>\n",
              "      <td>Rangyai Island</td>\n",
              "      <td>Thailand , Asia</td>\n",
              "      <td>East of Phuket</td>\n",
              "      <td>Developed</td>\n",
              "      <td>Freehold</td>\n",
              "      <td>Private Island</td>\n",
              "      <td>$ 160,000,000</td>\n",
              "      <td>110.00 Acres</td>\n",
              "      <td>Islands With Beaches, Large Acreage, Ocean Isl...</td>\n",
              "      <td>['RANGYAI ISLAND', 'Located just east of the i...</td>\n",
              "      <td>https://www.privateislandsonline.com/uploads/r...</td>\n",
              "      <td>Private Islands Online</td>\n",
              "      <td>[7.9556423, 98.44652769999999, Ko Rang Yai, Ko...</td>\n",
              "      <td>7.955642</td>\n",
              "      <td>98.446528</td>\n",
              "      <td>Ko Rang Yai, Ko Kaeo, Mueang Phuket District, ...</td>\n",
              "    </tr>\n",
              "    <tr>\n",
              "      <th>1</th>\n",
              "      <td>Blackbook Listing (ID 2867)</td>\n",
              "      <td>Spain , Europe</td>\n",
              "      <td>NaN</td>\n",
              "      <td>Developed</td>\n",
              "      <td>Freehold</td>\n",
              "      <td>Private Island</td>\n",
              "      <td>$100,000,000 - $200,000,000</td>\n",
              "      <td>100 - 200 Acres</td>\n",
              "      <td>Large Acreage, Ocean Island, Turn Key, Income ...</td>\n",
              "      <td>['BLACKBOOK LISTING', 'Large turnkey private i...</td>\n",
              "      <td>NaN</td>\n",
              "      <td>Private Islands Online</td>\n",
              "      <td>[40.46366700000001, -3.74922, Spain]</td>\n",
              "      <td>40.463667</td>\n",
              "      <td>-3.749220</td>\n",
              "      <td>Spain</td>\n",
              "    </tr>\n",
              "    <tr>\n",
              "      <th>2</th>\n",
              "      <td>Long Coco Caye</td>\n",
              "      <td>Belize , Central America</td>\n",
              "      <td>NaN</td>\n",
              "      <td>Developed</td>\n",
              "      <td>Freehold</td>\n",
              "      <td>Private Island</td>\n",
              "      <td>$ 100,000,000</td>\n",
              "      <td>38.00 Acres</td>\n",
              "      <td>Islands With Beaches, Large Acreage, Ocean Isl...</td>\n",
              "      <td>['LONG COCO CAYE', 'The long and shapely 38-ac...</td>\n",
              "      <td>https://www.privateislandsonline.com/uploads/r...</td>\n",
              "      <td>Private Islands Online</td>\n",
              "      <td>[16.55, -88.1, Long Coco Cay, Belize]</td>\n",
              "      <td>16.550000</td>\n",
              "      <td>-88.100000</td>\n",
              "      <td>Long Coco Cay, Belize</td>\n",
              "    </tr>\n",
              "  </tbody>\n",
              "</table>\n",
              "</div>\n",
              "      <button class=\"colab-df-convert\" onclick=\"convertToInteractive('df-d9fca1b1-6e47-4008-bd16-4d67a7468f56')\"\n",
              "              title=\"Convert this dataframe to an interactive table.\"\n",
              "              style=\"display:none;\">\n",
              "\n",
              "  <svg xmlns=\"http://www.w3.org/2000/svg\" height=\"24px\"viewBox=\"0 0 24 24\"\n",
              "       width=\"24px\">\n",
              "    <path d=\"M0 0h24v24H0V0z\" fill=\"none\"/>\n",
              "    <path d=\"M18.56 5.44l.94 2.06.94-2.06 2.06-.94-2.06-.94-.94-2.06-.94 2.06-2.06.94zm-11 1L8.5 8.5l.94-2.06 2.06-.94-2.06-.94L8.5 2.5l-.94 2.06-2.06.94zm10 10l.94 2.06.94-2.06 2.06-.94-2.06-.94-.94-2.06-.94 2.06-2.06.94z\"/><path d=\"M17.41 7.96l-1.37-1.37c-.4-.4-.92-.59-1.43-.59-.52 0-1.04.2-1.43.59L10.3 9.45l-7.72 7.72c-.78.78-.78 2.05 0 2.83L4 21.41c.39.39.9.59 1.41.59.51 0 1.02-.2 1.41-.59l7.78-7.78 2.81-2.81c.8-.78.8-2.07 0-2.86zM5.41 20L4 18.59l7.72-7.72 1.47 1.35L5.41 20z\"/>\n",
              "  </svg>\n",
              "      </button>\n",
              "\n",
              "\n",
              "\n",
              "    <div id=\"df-6c16b918-02d9-450c-808e-c790dd1f284e\">\n",
              "      <button class=\"colab-df-quickchart\" onclick=\"quickchart('df-6c16b918-02d9-450c-808e-c790dd1f284e')\"\n",
              "              title=\"Suggest charts.\"\n",
              "              style=\"display:none;\">\n",
              "\n",
              "<svg xmlns=\"http://www.w3.org/2000/svg\" height=\"24px\"viewBox=\"0 0 24 24\"\n",
              "     width=\"24px\">\n",
              "    <g>\n",
              "        <path d=\"M19 3H5c-1.1 0-2 .9-2 2v14c0 1.1.9 2 2 2h14c1.1 0 2-.9 2-2V5c0-1.1-.9-2-2-2zM9 17H7v-7h2v7zm4 0h-2V7h2v10zm4 0h-2v-4h2v4z\"/>\n",
              "    </g>\n",
              "</svg>\n",
              "      </button>\n",
              "    </div>\n",
              "\n",
              "<style>\n",
              "  .colab-df-quickchart {\n",
              "    background-color: #E8F0FE;\n",
              "    border: none;\n",
              "    border-radius: 50%;\n",
              "    cursor: pointer;\n",
              "    display: none;\n",
              "    fill: #1967D2;\n",
              "    height: 32px;\n",
              "    padding: 0 0 0 0;\n",
              "    width: 32px;\n",
              "  }\n",
              "\n",
              "  .colab-df-quickchart:hover {\n",
              "    background-color: #E2EBFA;\n",
              "    box-shadow: 0px 1px 2px rgba(60, 64, 67, 0.3), 0px 1px 3px 1px rgba(60, 64, 67, 0.15);\n",
              "    fill: #174EA6;\n",
              "  }\n",
              "\n",
              "  [theme=dark] .colab-df-quickchart {\n",
              "    background-color: #3B4455;\n",
              "    fill: #D2E3FC;\n",
              "  }\n",
              "\n",
              "  [theme=dark] .colab-df-quickchart:hover {\n",
              "    background-color: #434B5C;\n",
              "    box-shadow: 0px 1px 3px 1px rgba(0, 0, 0, 0.15);\n",
              "    filter: drop-shadow(0px 1px 2px rgba(0, 0, 0, 0.3));\n",
              "    fill: #FFFFFF;\n",
              "  }\n",
              "</style>\n",
              "\n",
              "    <script>\n",
              "      async function quickchart(key) {\n",
              "        const containerElement = document.querySelector('#' + key);\n",
              "        const charts = await google.colab.kernel.invokeFunction(\n",
              "            'suggestCharts', [key], {});\n",
              "      }\n",
              "    </script>\n",
              "\n",
              "      <script>\n",
              "\n",
              "function displayQuickchartButton(domScope) {\n",
              "  let quickchartButtonEl =\n",
              "    domScope.querySelector('#df-6c16b918-02d9-450c-808e-c790dd1f284e button.colab-df-quickchart');\n",
              "  quickchartButtonEl.style.display =\n",
              "    google.colab.kernel.accessAllowed ? 'block' : 'none';\n",
              "}\n",
              "\n",
              "        displayQuickchartButton(document);\n",
              "      </script>\n",
              "      <style>\n",
              "    .colab-df-container {\n",
              "      display:flex;\n",
              "      flex-wrap:wrap;\n",
              "      gap: 12px;\n",
              "    }\n",
              "\n",
              "    .colab-df-convert {\n",
              "      background-color: #E8F0FE;\n",
              "      border: none;\n",
              "      border-radius: 50%;\n",
              "      cursor: pointer;\n",
              "      display: none;\n",
              "      fill: #1967D2;\n",
              "      height: 32px;\n",
              "      padding: 0 0 0 0;\n",
              "      width: 32px;\n",
              "    }\n",
              "\n",
              "    .colab-df-convert:hover {\n",
              "      background-color: #E2EBFA;\n",
              "      box-shadow: 0px 1px 2px rgba(60, 64, 67, 0.3), 0px 1px 3px 1px rgba(60, 64, 67, 0.15);\n",
              "      fill: #174EA6;\n",
              "    }\n",
              "\n",
              "    [theme=dark] .colab-df-convert {\n",
              "      background-color: #3B4455;\n",
              "      fill: #D2E3FC;\n",
              "    }\n",
              "\n",
              "    [theme=dark] .colab-df-convert:hover {\n",
              "      background-color: #434B5C;\n",
              "      box-shadow: 0px 1px 3px 1px rgba(0, 0, 0, 0.15);\n",
              "      filter: drop-shadow(0px 1px 2px rgba(0, 0, 0, 0.3));\n",
              "      fill: #FFFFFF;\n",
              "    }\n",
              "  </style>\n",
              "\n",
              "      <script>\n",
              "        const buttonEl =\n",
              "          document.querySelector('#df-d9fca1b1-6e47-4008-bd16-4d67a7468f56 button.colab-df-convert');\n",
              "        buttonEl.style.display =\n",
              "          google.colab.kernel.accessAllowed ? 'block' : 'none';\n",
              "\n",
              "        async function convertToInteractive(key) {\n",
              "          const element = document.querySelector('#df-d9fca1b1-6e47-4008-bd16-4d67a7468f56');\n",
              "          const dataTable =\n",
              "            await google.colab.kernel.invokeFunction('convertToInteractive',\n",
              "                                                     [key], {});\n",
              "          if (!dataTable) return;\n",
              "\n",
              "          const docLinkHtml = 'Like what you see? Visit the ' +\n",
              "            '<a target=\"_blank\" href=https://colab.research.google.com/notebooks/data_table.ipynb>data table notebook</a>'\n",
              "            + ' to learn more about interactive tables.';\n",
              "          element.innerHTML = '';\n",
              "          dataTable['output_type'] = 'display_data';\n",
              "          await google.colab.output.renderOutput(dataTable, element);\n",
              "          const docLink = document.createElement('div');\n",
              "          docLink.innerHTML = docLinkHtml;\n",
              "          element.appendChild(docLink);\n",
              "        }\n",
              "      </script>\n",
              "    </div>\n",
              "  </div>\n"
            ]
          },
          "metadata": {},
          "execution_count": 121
        }
      ]
    },
    {
      "cell_type": "code",
      "source": [],
      "metadata": {
        "id": "h_Ps1St2MKCL"
      },
      "execution_count": null,
      "outputs": []
    },
    {
      "cell_type": "code",
      "source": [],
      "metadata": {
        "id": "YBxRc3F4MJ_n"
      },
      "execution_count": null,
      "outputs": []
    },
    {
      "cell_type": "code",
      "source": [],
      "metadata": {
        "id": "IyiG-qOvMJ9X"
      },
      "execution_count": null,
      "outputs": []
    },
    {
      "cell_type": "code",
      "source": [],
      "metadata": {
        "id": "SxkrYF55MJ6x"
      },
      "execution_count": null,
      "outputs": []
    },
    {
      "cell_type": "code",
      "source": [],
      "metadata": {
        "id": "ggbSBoqEMJ4J"
      },
      "execution_count": null,
      "outputs": []
    },
    {
      "cell_type": "code",
      "source": [],
      "metadata": {
        "id": "PGKq0gNWMJ11"
      },
      "execution_count": null,
      "outputs": []
    },
    {
      "cell_type": "code",
      "source": [],
      "metadata": {
        "id": "TozI2gxoMJzT"
      },
      "execution_count": null,
      "outputs": []
    },
    {
      "cell_type": "code",
      "source": [
        "coord = [lat,long]\n",
        "coord"
      ],
      "metadata": {
        "id": "u04otXDnMJwp"
      },
      "execution_count": null,
      "outputs": []
    },
    {
      "cell_type": "code",
      "source": [
        "import folium"
      ],
      "metadata": {
        "id": "ofw2KRtVsCbg"
      },
      "execution_count": 39,
      "outputs": []
    },
    {
      "cell_type": "code",
      "source": [
        "m = folium.Map(location=(30, 10), zoom_start=3, tiles=\"cartodb positron\", control_scale=True)\n",
        "# minor_islands_url = (\n",
        "#     \"https://d2ad6b4ur7yvpq.cloudfront.net/naturalearth-3.3.0/ne_10m_minor_islands_coastline.geojson\"\n",
        "# )\n",
        "# folium.GeoJson(minor_islands_url).add_to(m)\n",
        "m.save(\"footprint.html\")"
      ],
      "metadata": {
        "id": "nFruiGSfsJCT"
      },
      "execution_count": 40,
      "outputs": []
    },
    {
      "cell_type": "code",
      "source": [
        "popup  = folium.Popup(str(result['formatted_address']), max_width=600, max_height=600)\n",
        "\n",
        "folium.vector_layers.Marker(location=coord, tooltip='Island for sale', popup=popup).add_to(m)\n",
        "m"
      ],
      "metadata": {
        "id": "BokIIX90tgv3"
      },
      "execution_count": null,
      "outputs": []
    },
    {
      "cell_type": "code",
      "source": [
        "help(folium.Icon)"
      ],
      "metadata": {
        "id": "5FyveAnDylwu"
      },
      "execution_count": null,
      "outputs": []
    },
    {
      "cell_type": "code",
      "source": [],
      "metadata": {
        "id": "4gYIVTtvJvHf"
      },
      "execution_count": null,
      "outputs": []
    },
    {
      "cell_type": "code",
      "source": [],
      "metadata": {
        "id": "tBwj-3-KJvFg"
      },
      "execution_count": null,
      "outputs": []
    },
    {
      "cell_type": "code",
      "source": [
        "import folium\n",
        "import webbrowser  # open file in webbrowser\n",
        "\n",
        "m = folium.Map(location=[40.6976701, -74.2598704], zoom_start=10)\n",
        "\n",
        "marker = folium.Marker(location=[40.6976701, -74.2598704],\n",
        "                       tooltip='<b>Stackoverflow</b><br><br>2021.01.01',\n",
        "                       popup='<h1>Happy&nbsp;New&nbsp;Year!</h1><br><br>www:&nbsp;<a href=\"https://stackoverflow.com\">Stackoverflow.com</a><br><br>date:&nbsp;2021.01.01')\n",
        "marker.add_to(m)\n",
        "\n",
        "m.save('map.html')\n",
        "\n",
        "webbrowser.open('map.html')  # open file in webbrowser"
      ],
      "metadata": {
        "colab": {
          "base_uri": "https://localhost:8080/"
        },
        "id": "UCbwBwMXJvC_",
        "outputId": "b1e3bc2d-fb71-4259-fff3-d27355de135e"
      },
      "execution_count": 45,
      "outputs": [
        {
          "output_type": "execute_result",
          "data": {
            "text/plain": [
              "False"
            ]
          },
          "metadata": {},
          "execution_count": 45
        }
      ]
    },
    {
      "cell_type": "code",
      "source": [],
      "metadata": {
        "id": "mvOcb9m7JvAW"
      },
      "execution_count": null,
      "outputs": []
    },
    {
      "cell_type": "code",
      "source": [
        "map = folium.Map(location=(30, 10), zoom_start=3, tiles=\"cartodb positron\", control_scale=True)\n",
        "for i, row in df_test.iterrows():\n",
        "    folium.Marker(location=[row['lat'], row['long']], popup=row[\"address\"]).add_to(map)\n",
        "\n",
        "map"
      ],
      "metadata": {
        "colab": {
          "base_uri": "https://localhost:8080/",
          "height": 642
        },
        "id": "imnDQ1R-Ju9k",
        "outputId": "52c31612-ad96-4020-ddab-d288eb4a823c"
      },
      "execution_count": 124,
      "outputs": [
        {
          "output_type": "execute_result",
          "data": {
            "text/plain": [
              "<folium.folium.Map at 0x7e0fb0be25f0>"
            ],
            "text/html": [
              "<div style=\"width:100%;\"><div style=\"position:relative;width:100%;height:0;padding-bottom:60%;\"><span style=\"color:#565656\">Make this Notebook Trusted to load map: File -> Trust Notebook</span><iframe srcdoc=\"&lt;!DOCTYPE html&gt;\n",
              "&lt;html&gt;\n",
              "&lt;head&gt;\n",
              "    \n",
              "    &lt;meta http-equiv=&quot;content-type&quot; content=&quot;text/html; charset=UTF-8&quot; /&gt;\n",
              "    \n",
              "        &lt;script&gt;\n",
              "            L_NO_TOUCH = false;\n",
              "            L_DISABLE_3D = false;\n",
              "        &lt;/script&gt;\n",
              "    \n",
              "    &lt;style&gt;html, body {width: 100%;height: 100%;margin: 0;padding: 0;}&lt;/style&gt;\n",
              "    &lt;style&gt;#map {position:absolute;top:0;bottom:0;right:0;left:0;}&lt;/style&gt;\n",
              "    &lt;script src=&quot;https://cdn.jsdelivr.net/npm/leaflet@1.9.3/dist/leaflet.js&quot;&gt;&lt;/script&gt;\n",
              "    &lt;script src=&quot;https://code.jquery.com/jquery-1.12.4.min.js&quot;&gt;&lt;/script&gt;\n",
              "    &lt;script src=&quot;https://cdn.jsdelivr.net/npm/bootstrap@5.2.2/dist/js/bootstrap.bundle.min.js&quot;&gt;&lt;/script&gt;\n",
              "    &lt;script src=&quot;https://cdnjs.cloudflare.com/ajax/libs/Leaflet.awesome-markers/2.0.2/leaflet.awesome-markers.js&quot;&gt;&lt;/script&gt;\n",
              "    &lt;link rel=&quot;stylesheet&quot; href=&quot;https://cdn.jsdelivr.net/npm/leaflet@1.9.3/dist/leaflet.css&quot;/&gt;\n",
              "    &lt;link rel=&quot;stylesheet&quot; href=&quot;https://cdn.jsdelivr.net/npm/bootstrap@5.2.2/dist/css/bootstrap.min.css&quot;/&gt;\n",
              "    &lt;link rel=&quot;stylesheet&quot; href=&quot;https://netdna.bootstrapcdn.com/bootstrap/3.0.0/css/bootstrap.min.css&quot;/&gt;\n",
              "    &lt;link rel=&quot;stylesheet&quot; href=&quot;https://cdn.jsdelivr.net/npm/@fortawesome/fontawesome-free@6.2.0/css/all.min.css&quot;/&gt;\n",
              "    &lt;link rel=&quot;stylesheet&quot; href=&quot;https://cdnjs.cloudflare.com/ajax/libs/Leaflet.awesome-markers/2.0.2/leaflet.awesome-markers.css&quot;/&gt;\n",
              "    &lt;link rel=&quot;stylesheet&quot; href=&quot;https://cdn.jsdelivr.net/gh/python-visualization/folium/folium/templates/leaflet.awesome.rotate.min.css&quot;/&gt;\n",
              "    \n",
              "            &lt;meta name=&quot;viewport&quot; content=&quot;width=device-width,\n",
              "                initial-scale=1.0, maximum-scale=1.0, user-scalable=no&quot; /&gt;\n",
              "            &lt;style&gt;\n",
              "                #map_8cc7efbf6cb72509e855591b64e169c8 {\n",
              "                    position: relative;\n",
              "                    width: 100.0%;\n",
              "                    height: 100.0%;\n",
              "                    left: 0.0%;\n",
              "                    top: 0.0%;\n",
              "                }\n",
              "                .leaflet-container { font-size: 1rem; }\n",
              "            &lt;/style&gt;\n",
              "        \n",
              "&lt;/head&gt;\n",
              "&lt;body&gt;\n",
              "    \n",
              "    \n",
              "            &lt;div class=&quot;folium-map&quot; id=&quot;map_8cc7efbf6cb72509e855591b64e169c8&quot; &gt;&lt;/div&gt;\n",
              "        \n",
              "&lt;/body&gt;\n",
              "&lt;script&gt;\n",
              "    \n",
              "    \n",
              "            var map_8cc7efbf6cb72509e855591b64e169c8 = L.map(\n",
              "                &quot;map_8cc7efbf6cb72509e855591b64e169c8&quot;,\n",
              "                {\n",
              "                    center: [30.0, 10.0],\n",
              "                    crs: L.CRS.EPSG3857,\n",
              "                    zoom: 3,\n",
              "                    zoomControl: true,\n",
              "                    preferCanvas: false,\n",
              "                }\n",
              "            );\n",
              "            L.control.scale().addTo(map_8cc7efbf6cb72509e855591b64e169c8);\n",
              "\n",
              "            \n",
              "\n",
              "        \n",
              "    \n",
              "            var tile_layer_9bef644d9f0212b3f91cbeaf4944beb3 = L.tileLayer(\n",
              "                &quot;https://cartodb-basemaps-{s}.global.ssl.fastly.net/light_all/{z}/{x}/{y}.png&quot;,\n",
              "                {&quot;attribution&quot;: &quot;\\u0026copy; \\u003ca target=\\&quot;_blank\\&quot; href=\\&quot;http://www.openstreetmap.org/copyright\\&quot;\\u003eOpenStreetMap\\u003c/a\\u003e contributors \\u0026copy; \\u003ca target=\\&quot;_blank\\&quot; href=\\&quot;http://cartodb.com/attributions\\&quot;\\u003eCartoDB\\u003c/a\\u003e, CartoDB \\u003ca target=\\&quot;_blank\\&quot; href =\\&quot;http://cartodb.com/attributions\\&quot;\\u003eattributions\\u003c/a\\u003e&quot;, &quot;detectRetina&quot;: false, &quot;maxNativeZoom&quot;: 18, &quot;maxZoom&quot;: 18, &quot;minZoom&quot;: 0, &quot;noWrap&quot;: false, &quot;opacity&quot;: 1, &quot;subdomains&quot;: &quot;abc&quot;, &quot;tms&quot;: false}\n",
              "            ).addTo(map_8cc7efbf6cb72509e855591b64e169c8);\n",
              "        \n",
              "    \n",
              "            var marker_f62c62f6a4333c9c154693f7adb798e2 = L.marker(\n",
              "                [7.9556423, 98.44652769999999],\n",
              "                {}\n",
              "            ).addTo(map_8cc7efbf6cb72509e855591b64e169c8);\n",
              "        \n",
              "    \n",
              "        var popup_4f55f9b257bd1ccd3cd5bc351ae959a9 = L.popup({&quot;maxWidth&quot;: &quot;100%&quot;});\n",
              "\n",
              "        \n",
              "            \n",
              "                var html_1f8a7940e50c1414c65315360a7cc88a = $(`&lt;div id=&quot;html_1f8a7940e50c1414c65315360a7cc88a&quot; style=&quot;width: 100.0%; height: 100.0%;&quot;&gt;Ko Rang Yai, Ko Kaeo, Mueang Phuket District, Phuket, Thailand&lt;/div&gt;`)[0];\n",
              "                popup_4f55f9b257bd1ccd3cd5bc351ae959a9.setContent(html_1f8a7940e50c1414c65315360a7cc88a);\n",
              "            \n",
              "        \n",
              "\n",
              "        marker_f62c62f6a4333c9c154693f7adb798e2.bindPopup(popup_4f55f9b257bd1ccd3cd5bc351ae959a9)\n",
              "        ;\n",
              "\n",
              "        \n",
              "    \n",
              "    \n",
              "            var marker_f5f9115fbfdd9b3d52f54fa5a23ca322 = L.marker(\n",
              "                [40.46366700000001, -3.74922],\n",
              "                {}\n",
              "            ).addTo(map_8cc7efbf6cb72509e855591b64e169c8);\n",
              "        \n",
              "    \n",
              "        var popup_2508a883eee9ebea1aac27e98fd11dc9 = L.popup({&quot;maxWidth&quot;: &quot;100%&quot;});\n",
              "\n",
              "        \n",
              "            \n",
              "                var html_be102240d76f41bb02ebf14d89288574 = $(`&lt;div id=&quot;html_be102240d76f41bb02ebf14d89288574&quot; style=&quot;width: 100.0%; height: 100.0%;&quot;&gt;Spain&lt;/div&gt;`)[0];\n",
              "                popup_2508a883eee9ebea1aac27e98fd11dc9.setContent(html_be102240d76f41bb02ebf14d89288574);\n",
              "            \n",
              "        \n",
              "\n",
              "        marker_f5f9115fbfdd9b3d52f54fa5a23ca322.bindPopup(popup_2508a883eee9ebea1aac27e98fd11dc9)\n",
              "        ;\n",
              "\n",
              "        \n",
              "    \n",
              "    \n",
              "            var marker_e821992f10aef7aaa36d4dec46536298 = L.marker(\n",
              "                [16.55, -88.1],\n",
              "                {}\n",
              "            ).addTo(map_8cc7efbf6cb72509e855591b64e169c8);\n",
              "        \n",
              "    \n",
              "        var popup_5872316af1c5de2db80568cb13936559 = L.popup({&quot;maxWidth&quot;: &quot;100%&quot;});\n",
              "\n",
              "        \n",
              "            \n",
              "                var html_4543799341715536c0656bfa81832659 = $(`&lt;div id=&quot;html_4543799341715536c0656bfa81832659&quot; style=&quot;width: 100.0%; height: 100.0%;&quot;&gt;Long Coco Cay, Belize&lt;/div&gt;`)[0];\n",
              "                popup_5872316af1c5de2db80568cb13936559.setContent(html_4543799341715536c0656bfa81832659);\n",
              "            \n",
              "        \n",
              "\n",
              "        marker_e821992f10aef7aaa36d4dec46536298.bindPopup(popup_5872316af1c5de2db80568cb13936559)\n",
              "        ;\n",
              "\n",
              "        \n",
              "    \n",
              "&lt;/script&gt;\n",
              "&lt;/html&gt;\" style=\"position:absolute;width:100%;height:100%;left:0;top:0;border:none !important;\" allowfullscreen webkitallowfullscreen mozallowfullscreen></iframe></div></div>"
            ]
          },
          "metadata": {},
          "execution_count": 124
        }
      ]
    }
  ]
}