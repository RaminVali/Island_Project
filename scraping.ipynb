{
  "nbformat": 4,
  "nbformat_minor": 0,
  "metadata": {
    "colab": {
      "provenance": [],
      "mount_file_id": "1lbXHWG6FF4uO_kmddv5omoQZNpSH8zOj",
      "authorship_tag": "ABX9TyNIh+Alj8i6L7a0fuq1JcCM",
      "include_colab_link": true
    },
    "kernelspec": {
      "name": "python3",
      "display_name": "Python 3"
    },
    "language_info": {
      "name": "python"
    }
  },
  "cells": [
    {
      "cell_type": "markdown",
      "metadata": {
        "id": "view-in-github",
        "colab_type": "text"
      },
      "source": [
        "<a href=\"https://colab.research.google.com/github/RaminVali/Island_Project/blob/main/scraping.ipynb\" target=\"_parent\"><img src=\"https://colab.research.google.com/assets/colab-badge.svg\" alt=\"Open In Colab\"/></a>"
      ]
    },
    {
      "cell_type": "markdown",
      "source": [
        "Setting up Selenium Chorme dirver to use for scraping and scrolling donwn etc.\n",
        "\n",
        "Google colab has issues with selenium and the associated websidrver because their ubunto release does not include snap. Here is a workaround for this issue on google colab. Please see [here](https://stackoverflow.com/questions/75164313/selenium-in-google-colab-stopped-working-showing-an-error-as-service-chromedrive) for more details."
      ],
      "metadata": {
        "id": "vRVgZB_mS3SA"
      }
    },
    {
      "cell_type": "code",
      "source": [
        "%%shell\n",
        "# Ubuntu no longer distributes chromium-browser outside of snap\n",
        "#\n",
        "# Proposed solution: https://askubuntu.com/questions/1204571/how-to-install-chromium-without-snap\n",
        "\n",
        "# Add debian buster\n",
        "cat > /etc/apt/sources.list.d/debian.list <<'EOF'\n",
        "deb [arch=amd64 signed-by=/usr/share/keyrings/debian-buster.gpg] http://deb.debian.org/debian buster main\n",
        "deb [arch=amd64 signed-by=/usr/share/keyrings/debian-buster-updates.gpg] http://deb.debian.org/debian buster-updates main\n",
        "deb [arch=amd64 signed-by=/usr/share/keyrings/debian-security-buster.gpg] http://deb.debian.org/debian-security buster/updates main\n",
        "EOF\n",
        "\n",
        "# Add keys\n",
        "apt-key adv --keyserver keyserver.ubuntu.com --recv-keys DCC9EFBF77E11517\n",
        "apt-key adv --keyserver keyserver.ubuntu.com --recv-keys 648ACFD622F3D138\n",
        "apt-key adv --keyserver keyserver.ubuntu.com --recv-keys 112695A0E562B32A\n",
        "\n",
        "apt-key export 77E11517 | gpg --dearmour -o /usr/share/keyrings/debian-buster.gpg\n",
        "apt-key export 22F3D138 | gpg --dearmour -o /usr/share/keyrings/debian-buster-updates.gpg\n",
        "apt-key export E562B32A | gpg --dearmour -o /usr/share/keyrings/debian-security-buster.gpg\n",
        "\n",
        "# Prefer debian repo for chromium* packages only\n",
        "# Note the double-blank lines between entries\n",
        "cat > /etc/apt/preferences.d/chromium.pref << 'EOF'\n",
        "Package: *\n",
        "Pin: release a=eoan\n",
        "Pin-Priority: 500\n",
        "\n",
        "\n",
        "Package: *\n",
        "Pin: origin \"deb.debian.org\"\n",
        "Pin-Priority: 300\n",
        "\n",
        "\n",
        "Package: chromium*\n",
        "Pin: origin \"deb.debian.org\"\n",
        "Pin-Priority: 700\n",
        "EOF\n",
        "\n",
        "# Install chromium and chromium-driver\n",
        "apt-get install chromium chromium-driver\n",
        "apt-get update\n",
        "\n",
        "\n",
        "# Install selenium\n",
        "pip install selenium\n",
        "\n",
        "# Install\n",
        "pip install webdriver-manager"
      ],
      "metadata": {
        "colab": {
          "base_uri": "https://localhost:8080/"
        },
        "id": "6XK-xCN4RuGg",
        "outputId": "04b2e18d-663a-473e-ef46-06896f8f7b47"
      },
      "execution_count": 24,
      "outputs": [
        {
          "output_type": "stream",
          "name": "stdout",
          "text": [
            "Executing: /tmp/apt-key-gpghome.hUEaNzrpn8/gpg.1.sh --keyserver keyserver.ubuntu.com --recv-keys DCC9EFBF77E11517\n",
            "gpg: key DCC9EFBF77E11517: \"Debian Stable Release Key (10/buster) <debian-release@lists.debian.org>\" not changed\n",
            "gpg: Total number processed: 1\n",
            "gpg:              unchanged: 1\n",
            "Executing: /tmp/apt-key-gpghome.JfLKoV6hqh/gpg.1.sh --keyserver keyserver.ubuntu.com --recv-keys 648ACFD622F3D138\n",
            "gpg: key DC30D7C23CBBABEE: \"Debian Archive Automatic Signing Key (10/buster) <ftpmaster@debian.org>\" not changed\n",
            "gpg: Total number processed: 1\n",
            "gpg:              unchanged: 1\n",
            "Executing: /tmp/apt-key-gpghome.JPguq90wzP/gpg.1.sh --keyserver keyserver.ubuntu.com --recv-keys 112695A0E562B32A\n",
            "gpg: key 4DFAB270CAA96DFA: \"Debian Security Archive Automatic Signing Key (10/buster) <ftpmaster@debian.org>\" not changed\n",
            "gpg: Total number processed: 1\n",
            "gpg:              unchanged: 1\n",
            "gpg: cannot open '/dev/tty': No such device or address\n",
            "Warning: apt-key output should not be parsed (stdout is not a terminal)\n",
            "gpg: [stdout]: write error: Broken pipe\n",
            "gpg: filter_flush failed on close: Broken pipe\n",
            "gpg: cannot open '/dev/tty': No such device or address\n",
            "Warning: apt-key output should not be parsed (stdout is not a terminal)\n",
            "gpg: [stdout]: write error: Broken pipe\n",
            "gpg: filter_flush failed on close: Broken pipe\n",
            "gpg: cannot open '/dev/tty': No such device or address\n",
            "Warning: apt-key output should not be parsed (stdout is not a terminal)\n",
            "gpg: [stdout]: write error: Broken pipe\n",
            "gpg: filter_flush failed on close: Broken pipe\n",
            "Reading package lists... Done\n",
            "Building dependency tree       \n",
            "Reading state information... Done\n",
            "chromium is already the newest version (90.0.4430.212-1~deb10u1).\n",
            "chromium-driver is already the newest version (90.0.4430.212-1~deb10u1).\n",
            "0 upgraded, 0 newly installed, 0 to remove and 14 not upgraded.\n",
            "Hit:1 http://deb.debian.org/debian buster InRelease\n",
            "Hit:2 https://cloud.r-project.org/bin/linux/ubuntu focal-cran40/ InRelease\n",
            "Hit:3 http://deb.debian.org/debian buster-updates InRelease\n",
            "Hit:4 http://deb.debian.org/debian-security buster/updates InRelease\n",
            "Hit:5 https://developer.download.nvidia.com/compute/cuda/repos/ubuntu2004/x86_64  InRelease\n",
            "Get:6 http://security.ubuntu.com/ubuntu focal-security InRelease [114 kB]\n",
            "Hit:7 http://ppa.launchpad.net/c2d4u.team/c2d4u4.0+/ubuntu focal InRelease\n",
            "Hit:8 http://archive.ubuntu.com/ubuntu focal InRelease\n",
            "Get:9 http://archive.ubuntu.com/ubuntu focal-updates InRelease [114 kB]\n",
            "Hit:10 http://ppa.launchpad.net/cran/libgit2/ubuntu focal InRelease\n",
            "Hit:11 http://ppa.launchpad.net/deadsnakes/ppa/ubuntu focal InRelease\n",
            "Get:12 http://archive.ubuntu.com/ubuntu focal-backports InRelease [108 kB]\n",
            "Hit:13 http://ppa.launchpad.net/graphics-drivers/ppa/ubuntu focal InRelease\n",
            "Get:14 http://archive.ubuntu.com/ubuntu focal-updates/universe amd64 Packages [1,372 kB]\n",
            "Hit:15 http://ppa.launchpad.net/ubuntugis/ppa/ubuntu focal InRelease\n",
            "Get:16 http://archive.ubuntu.com/ubuntu focal-updates/main amd64 Packages [3,347 kB]\n",
            "Fetched 5,055 kB in 4s (1,376 kB/s)\n",
            "Reading package lists... Done\n",
            "Requirement already satisfied: selenium in /usr/local/lib/python3.10/dist-packages (4.10.0)\n",
            "Requirement already satisfied: urllib3[socks]<3,>=1.26 in /usr/local/lib/python3.10/dist-packages (from selenium) (1.26.16)\n",
            "Requirement already satisfied: trio~=0.17 in /usr/local/lib/python3.10/dist-packages (from selenium) (0.22.2)\n",
            "Requirement already satisfied: trio-websocket~=0.9 in /usr/local/lib/python3.10/dist-packages (from selenium) (0.10.3)\n",
            "Requirement already satisfied: certifi>=2021.10.8 in /usr/local/lib/python3.10/dist-packages (from selenium) (2023.5.7)\n",
            "Requirement already satisfied: attrs>=20.1.0 in /usr/local/lib/python3.10/dist-packages (from trio~=0.17->selenium) (23.1.0)\n",
            "Requirement already satisfied: sortedcontainers in /usr/local/lib/python3.10/dist-packages (from trio~=0.17->selenium) (2.4.0)\n",
            "Requirement already satisfied: idna in /usr/local/lib/python3.10/dist-packages (from trio~=0.17->selenium) (3.4)\n",
            "Requirement already satisfied: outcome in /usr/local/lib/python3.10/dist-packages (from trio~=0.17->selenium) (1.2.0)\n",
            "Requirement already satisfied: sniffio in /usr/local/lib/python3.10/dist-packages (from trio~=0.17->selenium) (1.3.0)\n",
            "Requirement already satisfied: exceptiongroup>=1.0.0rc9 in /usr/local/lib/python3.10/dist-packages (from trio~=0.17->selenium) (1.1.2)\n",
            "Requirement already satisfied: wsproto>=0.14 in /usr/local/lib/python3.10/dist-packages (from trio-websocket~=0.9->selenium) (1.2.0)\n",
            "Requirement already satisfied: PySocks!=1.5.7,<2.0,>=1.5.6 in /usr/local/lib/python3.10/dist-packages (from urllib3[socks]<3,>=1.26->selenium) (1.7.1)\n",
            "Requirement already satisfied: h11<1,>=0.9.0 in /usr/local/lib/python3.10/dist-packages (from wsproto>=0.14->trio-websocket~=0.9->selenium) (0.14.0)\n",
            "Requirement already satisfied: webdriver-manager in /usr/local/lib/python3.10/dist-packages (3.8.6)\n",
            "Requirement already satisfied: requests in /usr/local/lib/python3.10/dist-packages (from webdriver-manager) (2.27.1)\n",
            "Requirement already satisfied: python-dotenv in /usr/local/lib/python3.10/dist-packages (from webdriver-manager) (1.0.0)\n",
            "Requirement already satisfied: tqdm in /usr/local/lib/python3.10/dist-packages (from webdriver-manager) (4.65.0)\n",
            "Requirement already satisfied: packaging in /usr/local/lib/python3.10/dist-packages (from webdriver-manager) (23.1)\n",
            "Requirement already satisfied: urllib3<1.27,>=1.21.1 in /usr/local/lib/python3.10/dist-packages (from requests->webdriver-manager) (1.26.16)\n",
            "Requirement already satisfied: certifi>=2017.4.17 in /usr/local/lib/python3.10/dist-packages (from requests->webdriver-manager) (2023.5.7)\n",
            "Requirement already satisfied: charset-normalizer~=2.0.0 in /usr/local/lib/python3.10/dist-packages (from requests->webdriver-manager) (2.0.12)\n",
            "Requirement already satisfied: idna<4,>=2.5 in /usr/local/lib/python3.10/dist-packages (from requests->webdriver-manager) (3.4)\n"
          ]
        },
        {
          "output_type": "execute_result",
          "data": {
            "text/plain": []
          },
          "metadata": {},
          "execution_count": 24
        }
      ]
    },
    {
      "cell_type": "code",
      "source": [
        "! ls /usr/bin/chromedriver"
      ],
      "metadata": {
        "colab": {
          "base_uri": "https://localhost:8080/"
        },
        "id": "8QPoO4XgLEPx",
        "outputId": "57604f79-f8dc-4333-fd68-be852cde849f"
      },
      "execution_count": 25,
      "outputs": [
        {
          "output_type": "stream",
          "name": "stdout",
          "text": [
            "/usr/bin/chromedriver\n"
          ]
        }
      ]
    },
    {
      "cell_type": "markdown",
      "source": [
        "Importing Packages"
      ],
      "metadata": {
        "id": "Alx8mElmoS_p"
      }
    },
    {
      "cell_type": "code",
      "source": [
        "import time\n",
        "from selenium import webdriver\n",
        "from selenium.webdriver.chrome.options import Options\n",
        "from selenium.webdriver.chrome.service import Service\n",
        "from selenium.common.exceptions import TimeoutException\n",
        "from selenium.webdriver.common.by import By\n",
        "\n",
        "import os\n",
        "from bs4 import BeautifulSoup\n",
        "from urllib.parse import urljoin\n",
        "from collections import defaultdict\n",
        "\n",
        "import re\n",
        "\n",
        "\n",
        "import requests\n",
        "import pandas as pd"
      ],
      "metadata": {
        "id": "Vlh632FWoR6n"
      },
      "execution_count": 26,
      "outputs": []
    },
    {
      "cell_type": "markdown",
      "source": [
        "# Function Declerations\n",
        "\n",
        "## Setting up the webdriver with appropriate options\n",
        "### Setting up a function for the driver so we always inherit the options\n",
        "To not be flagged as a robot by the website, see [here](https://stackoverflow.com/questions/71885891/urllib3-exceptions-maxretryerror-httpconnectionpoolhost-localhost-port-5958)"
      ],
      "metadata": {
        "id": "WFh-7nevnTlj"
      }
    },
    {
      "cell_type": "code",
      "source": [
        "\n",
        "\n",
        "\n",
        "def get_driver():\n",
        "  #service = Service(executable_path='/usr/lib/chromium-browser/chromedriver/usr/bin') #this gives a version mismatch error bweteen the driver and the Chormium\n",
        "  service = Service(executable_path='/usr/bin/chromedriver') #this is where the correct version of the chromium and webdriver live\n",
        "  options = Options()\n",
        "  options.add_argument(\"--headless\")\n",
        "  options.add_argument(\"--no-sandbox\")\n",
        "  options.add_argument('--disable-dev-shm-usage')\n",
        "  options.add_argument('--disable-blink-features=AutomationControlled')\n",
        "  driver = webdriver.Chrome(service = service, options = options)\n",
        "  return driver\n",
        "\n",
        "\n",
        "# function to manipulate a list into two lists\n",
        "def zigzag(seq):\n",
        "  results = [], []\n",
        "  for i, e in enumerate(seq):\n",
        "    results[i%2].append(e)\n",
        "  return results\n"
      ],
      "metadata": {
        "id": "BcMAh9H9X3jh"
      },
      "execution_count": 27,
      "outputs": []
    },
    {
      "cell_type": "markdown",
      "source": [
        "Setting up the driver and doing infinite scrolling to get all the html form the main website page. We will get the hrefs with all the links. [Source](https://medium.com/analytics-vidhya/using-python-and-selenium-to-scrape-infinite-scroll-web-pages-825d12c24ec7)\n",
        "\n",
        "Only uncomment the below if you want the main page of the ```privateislands.com``` to be scanned. I have already scanned this file and I use it for all the testing. It is saved as output1."
      ],
      "metadata": {
        "id": "QwUJ7yjhojwl"
      }
    },
    {
      "cell_type": "code",
      "source": [
        "# # Web scrapper for infinite scrolling page\n",
        "# driver = get_driver()\n",
        "# driver.get(\"https://www.privateislandsonline.com/search?availability=sale&region=&q2=&price_range=0%3A50000000&size_range=0%3A1000\")\n",
        "# time.sleep(2)  # Allow 2 seconds for the web page to open\n",
        "# scroll_pause_time = 2 # You can set your own pause time. My laptop is a bit slow so I use 1 sec\n",
        "# screen_height = driver.execute_script(\"return window.screen.height;\")   # get the screen height of the web\n",
        "# i = 1\n",
        "\n",
        "# while True:\n",
        "#     # scroll one screen height each time\n",
        "#     driver.execute_script(\"window.scrollTo(0, {screen_height}*{i});\".format(screen_height=screen_height, i=i))\n",
        "#     i += 1\n",
        "#     time.sleep(scroll_pause_time)\n",
        "#     # update scroll height each time after scrolled, as the scroll height can change after we scrolled the page\n",
        "#     scroll_height = driver.execute_script(\"return document.body.scrollHeight;\")\n",
        "#     # Break the loop when the height we need to scroll to is larger than the total scroll height\n",
        "#     if (screen_height) * i > scroll_height:\n",
        "#         break\n",
        "\n",
        "# soup = BeautifulSoup(driver.page_source, \"html.parser\")\n"
      ],
      "metadata": {
        "id": "vYgj7CgUOHH3"
      },
      "execution_count": 28,
      "outputs": []
    },
    {
      "cell_type": "markdown",
      "source": [
        "Saving the contents we scraped. Uncomment as above."
      ],
      "metadata": {
        "id": "Eqhj61JMpCLv"
      }
    },
    {
      "cell_type": "code",
      "source": [
        "# with open(\"output1.html\", \"w\", encoding='utf-8') as file:\n",
        "#     file.write(str(soup))"
      ],
      "metadata": {
        "id": "vLHrMFJ2pA8U"
      },
      "execution_count": 29,
      "outputs": []
    },
    {
      "cell_type": "markdown",
      "source": [
        "Loading the saved contents again"
      ],
      "metadata": {
        "id": "ld7V5ykupypg"
      }
    },
    {
      "cell_type": "code",
      "source": [
        "path = '/content/drive/MyDrive/Colab Notebooks/Private_Island_Project/Island_Project/output1.html'\n",
        "\n",
        "with open(path, 'r') as f:\n",
        "    contents = f.read()\n",
        "    soup = BeautifulSoup(contents, 'lxml')\n",
        "\n",
        "##### Extract Individual Island URLs #####\n",
        "urls = []\n",
        "for parent in soup.find_all('div', class_=\"img-container\"):\n",
        "    url = parent.find('a').get('href')\n",
        "    urls.append(url)\n",
        "\n",
        "print(f\"We have found {len(urls)} islands for sale\")"
      ],
      "metadata": {
        "colab": {
          "base_uri": "https://localhost:8080/"
        },
        "id": "vPoipOeYpA3-",
        "outputId": "24decd7e-ce91-4f77-9215-a80bf3610125"
      },
      "execution_count": 30,
      "outputs": [
        {
          "output_type": "stream",
          "name": "stdout",
          "text": [
            "We have found 611 islands for sale\n"
          ]
        }
      ]
    },
    {
      "cell_type": "markdown",
      "source": [
        "We will go through each 611 URLs and dump the page contents into a seperate folder. The folder name is going to be from the URL, where it is region/country/island_name or region/region/country/island_name."
      ],
      "metadata": {
        "id": "mlY4IyysqxqJ"
      }
    },
    {
      "cell_type": "markdown",
      "source": [
        "test_url = ['https://www.privateislandsonline.com/asia/thailand/rangyai-island',\n",
        " 'https://www.privateislandsonline.com/europe/spain/2867']"
      ],
      "metadata": {
        "id": "ovCiXtpVxV4Z"
      }
    },
    {
      "cell_type": "code",
      "source": [],
      "metadata": {
        "id": "94hgzAbrcqrf"
      },
      "execution_count": null,
      "outputs": []
    },
    {
      "cell_type": "code",
      "source": [],
      "metadata": {
        "id": "cSZRMBudcqo0"
      },
      "execution_count": null,
      "outputs": []
    },
    {
      "cell_type": "code",
      "source": [],
      "metadata": {
        "id": "F6J9hLT6cqmT"
      },
      "execution_count": null,
      "outputs": []
    },
    {
      "cell_type": "code",
      "source": [],
      "metadata": {
        "id": "QuIwwwgxcqjv"
      },
      "execution_count": null,
      "outputs": []
    },
    {
      "cell_type": "code",
      "source": [],
      "metadata": {
        "id": "aeRlx0brcqhZ"
      },
      "execution_count": null,
      "outputs": []
    },
    {
      "cell_type": "code",
      "source": [],
      "metadata": {
        "id": "NJcdnqwVcqeZ"
      },
      "execution_count": null,
      "outputs": []
    },
    {
      "cell_type": "code",
      "source": [],
      "metadata": {
        "id": "wLnb4q0OcqbJ"
      },
      "execution_count": null,
      "outputs": []
    },
    {
      "cell_type": "code",
      "source": [
        "test_url = urls[0:2]\n",
        "test_url"
      ],
      "metadata": {
        "colab": {
          "base_uri": "https://localhost:8080/"
        },
        "id": "Hmc7D6sXpAyn",
        "outputId": "83f572fe-68a0-43df-ca9c-7585d47068ed"
      },
      "execution_count": 31,
      "outputs": [
        {
          "output_type": "execute_result",
          "data": {
            "text/plain": [
              "['https://www.privateislandsonline.com/asia/thailand/rangyai-island',\n",
              " 'https://www.privateislandsonline.com/europe/spain/2867']"
            ]
          },
          "metadata": {},
          "execution_count": 31
        }
      ]
    },
    {
      "cell_type": "code",
      "source": [
        "DATA_DIR = \"/content/drive/MyDrive/Colab Notebooks/Private_Island_Project/Island_Project/Data\"\n"
      ],
      "metadata": {
        "id": "yf9f-o6T6f0O"
      },
      "execution_count": 33,
      "outputs": []
    },
    {
      "cell_type": "code",
      "source": [
        "output = pd.DataFrame()\n",
        "Driver = get_driver()\n",
        "\n",
        "for url in test_url:\n",
        "\n",
        "  Driver.get(url)\n",
        "  print(Driver.title)\n",
        "  print(Driver.current_url)\n",
        "\n",
        "  # extracting the text part of islands-details section\n",
        "  basic_info = Driver.find_element(By.ID,\"island-details\")\n",
        "\n",
        "  # cleaning the extracted text\n",
        "  to_delete = ['FOR SALE','EUR','GBP','AUD','CAD','CZK','DKK','HKD','HUF','ILS',\n",
        "              'JPY','MXN','NOK','NZD','PHP','PLN','SGD','SEK','CHF','TWD','THB',\n",
        "              'UAH','ISK','HRK','RON','BGN','TRY','CLP','ZAR','BRL','MYR','RUB',\n",
        "              'IDR','INR','KRW','CNY', 'USD','Back','Print','What is a blackbook Listing?',\n",
        "              'Blackbook private island listings are available to the public, without','For Sale']\n",
        "  basic_text = basic_info.text\n",
        "  clean_text = re.sub(r'(\\n\\n\\n\\n\\n\\n\\n\\n|\\n\\n)', '', basic_text)\n",
        "  lines = clean_text.split(\"\\n\")\n",
        "  clean_list = [line for line in lines if not any(sub_delete in line for sub_delete in to_delete)]\n",
        "\n",
        "  # Splitting the created list\n",
        "  keys, values = zigzag(clean_list)\n",
        "\n",
        "  #print(clean_text)\n",
        "  # print(keys)\n",
        "  # print('\\n')\n",
        "  # print(values)\n",
        "\n",
        "  [v.replace(\"[\",\"\").replace(\"]\",\"\") for v in values]\n",
        "  #print(values)\n",
        "  keys[-1] = 'Details'\n",
        "  # creating a dictionary of the results\n",
        "  res = defaultdict(list)\n",
        "  for i, j in zip(keys, values):\n",
        "    res[i].append(j)\n",
        "  dict(res)\n",
        "\n",
        "  # appending dictionary to dataframe\n",
        "\n",
        "  df_dictionary = pd.DataFrame(res)\n",
        "  output = pd.concat([output, df_dictionary], ignore_index=True)\n",
        "  #output.head()\n",
        "\n",
        "Driver.quit()\n"
      ],
      "metadata": {
        "id": "7WZF-YGSxixq",
        "colab": {
          "base_uri": "https://localhost:8080/",
          "height": 116
        },
        "outputId": "ade2e1c2-8fda-40f2-8e78-d5f78841d59d"
      },
      "execution_count": 196,
      "outputs": [
        {
          "output_type": "stream",
          "name": "stdout",
          "text": [
            "2867 - Spain, Europe - Private Islands for Sale\n",
            "https://www.privateislandsonline.com/europe/spain/2867\n"
          ]
        },
        {
          "output_type": "execute_result",
          "data": {
            "text/plain": [
              "                          Name          Region Development     Title  \\\n",
              "0  Blackbook Listing (ID 2867)  Spain , Europe   Developed  Freehold   \n",
              "\n",
              "             Type                        Price             Size  \\\n",
              "0  Private Island  $100,000,000 - $200,000,000  100 - 200 Acres   \n",
              "\n",
              "                                          Lifestyles  \\\n",
              "0  Large Acreage, Ocean Island, Turn Key, Income ...   \n",
              "\n",
              "                                             Details  \n",
              "0  Large turnkey private island available for sal...  "
            ],
            "text/html": [
              "\n",
              "\n",
              "  <div id=\"df-7e2a4e4d-7ff0-4127-8a5e-0c1b675e3f89\">\n",
              "    <div class=\"colab-df-container\">\n",
              "      <div>\n",
              "<style scoped>\n",
              "    .dataframe tbody tr th:only-of-type {\n",
              "        vertical-align: middle;\n",
              "    }\n",
              "\n",
              "    .dataframe tbody tr th {\n",
              "        vertical-align: top;\n",
              "    }\n",
              "\n",
              "    .dataframe thead th {\n",
              "        text-align: right;\n",
              "    }\n",
              "</style>\n",
              "<table border=\"1\" class=\"dataframe\">\n",
              "  <thead>\n",
              "    <tr style=\"text-align: right;\">\n",
              "      <th></th>\n",
              "      <th>Name</th>\n",
              "      <th>Region</th>\n",
              "      <th>Development</th>\n",
              "      <th>Title</th>\n",
              "      <th>Type</th>\n",
              "      <th>Price</th>\n",
              "      <th>Size</th>\n",
              "      <th>Lifestyles</th>\n",
              "      <th>Details</th>\n",
              "    </tr>\n",
              "  </thead>\n",
              "  <tbody>\n",
              "    <tr>\n",
              "      <th>0</th>\n",
              "      <td>Blackbook Listing (ID 2867)</td>\n",
              "      <td>Spain , Europe</td>\n",
              "      <td>Developed</td>\n",
              "      <td>Freehold</td>\n",
              "      <td>Private Island</td>\n",
              "      <td>$100,000,000 - $200,000,000</td>\n",
              "      <td>100 - 200 Acres</td>\n",
              "      <td>Large Acreage, Ocean Island, Turn Key, Income ...</td>\n",
              "      <td>Large turnkey private island available for sal...</td>\n",
              "    </tr>\n",
              "  </tbody>\n",
              "</table>\n",
              "</div>\n",
              "      <button class=\"colab-df-convert\" onclick=\"convertToInteractive('df-7e2a4e4d-7ff0-4127-8a5e-0c1b675e3f89')\"\n",
              "              title=\"Convert this dataframe to an interactive table.\"\n",
              "              style=\"display:none;\">\n",
              "\n",
              "  <svg xmlns=\"http://www.w3.org/2000/svg\" height=\"24px\"viewBox=\"0 0 24 24\"\n",
              "       width=\"24px\">\n",
              "    <path d=\"M0 0h24v24H0V0z\" fill=\"none\"/>\n",
              "    <path d=\"M18.56 5.44l.94 2.06.94-2.06 2.06-.94-2.06-.94-.94-2.06-.94 2.06-2.06.94zm-11 1L8.5 8.5l.94-2.06 2.06-.94-2.06-.94L8.5 2.5l-.94 2.06-2.06.94zm10 10l.94 2.06.94-2.06 2.06-.94-2.06-.94-.94-2.06-.94 2.06-2.06.94z\"/><path d=\"M17.41 7.96l-1.37-1.37c-.4-.4-.92-.59-1.43-.59-.52 0-1.04.2-1.43.59L10.3 9.45l-7.72 7.72c-.78.78-.78 2.05 0 2.83L4 21.41c.39.39.9.59 1.41.59.51 0 1.02-.2 1.41-.59l7.78-7.78 2.81-2.81c.8-.78.8-2.07 0-2.86zM5.41 20L4 18.59l7.72-7.72 1.47 1.35L5.41 20z\"/>\n",
              "  </svg>\n",
              "      </button>\n",
              "\n",
              "\n",
              "\n",
              "    <div id=\"df-64bbe72a-cb37-4051-a445-ad631dc90021\">\n",
              "      <button class=\"colab-df-quickchart\" onclick=\"quickchart('df-64bbe72a-cb37-4051-a445-ad631dc90021')\"\n",
              "              title=\"Suggest charts.\"\n",
              "              style=\"display:none;\">\n",
              "\n",
              "<svg xmlns=\"http://www.w3.org/2000/svg\" height=\"24px\"viewBox=\"0 0 24 24\"\n",
              "     width=\"24px\">\n",
              "    <g>\n",
              "        <path d=\"M19 3H5c-1.1 0-2 .9-2 2v14c0 1.1.9 2 2 2h14c1.1 0 2-.9 2-2V5c0-1.1-.9-2-2-2zM9 17H7v-7h2v7zm4 0h-2V7h2v10zm4 0h-2v-4h2v4z\"/>\n",
              "    </g>\n",
              "</svg>\n",
              "      </button>\n",
              "    </div>\n",
              "\n",
              "<style>\n",
              "  .colab-df-quickchart {\n",
              "    background-color: #E8F0FE;\n",
              "    border: none;\n",
              "    border-radius: 50%;\n",
              "    cursor: pointer;\n",
              "    display: none;\n",
              "    fill: #1967D2;\n",
              "    height: 32px;\n",
              "    padding: 0 0 0 0;\n",
              "    width: 32px;\n",
              "  }\n",
              "\n",
              "  .colab-df-quickchart:hover {\n",
              "    background-color: #E2EBFA;\n",
              "    box-shadow: 0px 1px 2px rgba(60, 64, 67, 0.3), 0px 1px 3px 1px rgba(60, 64, 67, 0.15);\n",
              "    fill: #174EA6;\n",
              "  }\n",
              "\n",
              "  [theme=dark] .colab-df-quickchart {\n",
              "    background-color: #3B4455;\n",
              "    fill: #D2E3FC;\n",
              "  }\n",
              "\n",
              "  [theme=dark] .colab-df-quickchart:hover {\n",
              "    background-color: #434B5C;\n",
              "    box-shadow: 0px 1px 3px 1px rgba(0, 0, 0, 0.15);\n",
              "    filter: drop-shadow(0px 1px 2px rgba(0, 0, 0, 0.3));\n",
              "    fill: #FFFFFF;\n",
              "  }\n",
              "</style>\n",
              "\n",
              "    <script>\n",
              "      async function quickchart(key) {\n",
              "        const containerElement = document.querySelector('#' + key);\n",
              "        const charts = await google.colab.kernel.invokeFunction(\n",
              "            'suggestCharts', [key], {});\n",
              "      }\n",
              "    </script>\n",
              "\n",
              "      <script>\n",
              "\n",
              "function displayQuickchartButton(domScope) {\n",
              "  let quickchartButtonEl =\n",
              "    domScope.querySelector('#df-64bbe72a-cb37-4051-a445-ad631dc90021 button.colab-df-quickchart');\n",
              "  quickchartButtonEl.style.display =\n",
              "    google.colab.kernel.accessAllowed ? 'block' : 'none';\n",
              "}\n",
              "\n",
              "        displayQuickchartButton(document);\n",
              "      </script>\n",
              "      <style>\n",
              "    .colab-df-container {\n",
              "      display:flex;\n",
              "      flex-wrap:wrap;\n",
              "      gap: 12px;\n",
              "    }\n",
              "\n",
              "    .colab-df-convert {\n",
              "      background-color: #E8F0FE;\n",
              "      border: none;\n",
              "      border-radius: 50%;\n",
              "      cursor: pointer;\n",
              "      display: none;\n",
              "      fill: #1967D2;\n",
              "      height: 32px;\n",
              "      padding: 0 0 0 0;\n",
              "      width: 32px;\n",
              "    }\n",
              "\n",
              "    .colab-df-convert:hover {\n",
              "      background-color: #E2EBFA;\n",
              "      box-shadow: 0px 1px 2px rgba(60, 64, 67, 0.3), 0px 1px 3px 1px rgba(60, 64, 67, 0.15);\n",
              "      fill: #174EA6;\n",
              "    }\n",
              "\n",
              "    [theme=dark] .colab-df-convert {\n",
              "      background-color: #3B4455;\n",
              "      fill: #D2E3FC;\n",
              "    }\n",
              "\n",
              "    [theme=dark] .colab-df-convert:hover {\n",
              "      background-color: #434B5C;\n",
              "      box-shadow: 0px 1px 3px 1px rgba(0, 0, 0, 0.15);\n",
              "      filter: drop-shadow(0px 1px 2px rgba(0, 0, 0, 0.3));\n",
              "      fill: #FFFFFF;\n",
              "    }\n",
              "  </style>\n",
              "\n",
              "      <script>\n",
              "        const buttonEl =\n",
              "          document.querySelector('#df-7e2a4e4d-7ff0-4127-8a5e-0c1b675e3f89 button.colab-df-convert');\n",
              "        buttonEl.style.display =\n",
              "          google.colab.kernel.accessAllowed ? 'block' : 'none';\n",
              "\n",
              "        async function convertToInteractive(key) {\n",
              "          const element = document.querySelector('#df-7e2a4e4d-7ff0-4127-8a5e-0c1b675e3f89');\n",
              "          const dataTable =\n",
              "            await google.colab.kernel.invokeFunction('convertToInteractive',\n",
              "                                                     [key], {});\n",
              "          if (!dataTable) return;\n",
              "\n",
              "          const docLinkHtml = 'Like what you see? Visit the ' +\n",
              "            '<a target=\"_blank\" href=https://colab.research.google.com/notebooks/data_table.ipynb>data table notebook</a>'\n",
              "            + ' to learn more about interactive tables.';\n",
              "          element.innerHTML = '';\n",
              "          dataTable['output_type'] = 'display_data';\n",
              "          await google.colab.output.renderOutput(dataTable, element);\n",
              "          const docLink = document.createElement('div');\n",
              "          docLink.innerHTML = docLinkHtml;\n",
              "          element.appendChild(docLink);\n",
              "        }\n",
              "      </script>\n",
              "    </div>\n",
              "  </div>\n"
            ]
          },
          "metadata": {},
          "execution_count": 196
        }
      ]
    },
    {
      "cell_type": "code",
      "source": [],
      "metadata": {
        "id": "NJap4GrgWK2b"
      },
      "execution_count": null,
      "outputs": []
    },
    {
      "cell_type": "code",
      "source": [],
      "metadata": {
        "id": "XE9IdZlxWKzB"
      },
      "execution_count": null,
      "outputs": []
    },
    {
      "cell_type": "code",
      "source": [],
      "metadata": {
        "id": "iO-jYhwlWKtW"
      },
      "execution_count": null,
      "outputs": []
    },
    {
      "cell_type": "code",
      "source": [],
      "metadata": {
        "id": "q0UZrwEIWKqj"
      },
      "execution_count": null,
      "outputs": []
    },
    {
      "cell_type": "code",
      "source": [
        "imgs = Driver.find_elements(\"xpath\",\"//img\")\n",
        "for img in imgs:\n",
        "    print(img.get_attribute(\"src\"))"
      ],
      "metadata": {
        "colab": {
          "base_uri": "https://localhost:8080/"
        },
        "id": "IvEG7K_rxiaz",
        "outputId": "bc5f8578-6a0b-4526-e930-e1f895eb38b1"
      },
      "execution_count": 90,
      "outputs": [
        {
          "output_type": "stream",
          "name": "stdout",
          "text": [
            "https://www.privateislandsonline.com/img/front/new-logo.png\n",
            "https://www.privateislandsonline.com/img/front/logo_small.png\n",
            "https://www.privateislandsonline.com/img/front/navSocialIcon_fb.png\n",
            "https://www.privateislandsonline.com/img/front/navSocialIcon_tw.png\n",
            "https://www.privateislandsonline.com/img/front/navSocialIcon_gp.png\n",
            "https://www.google.com/images/cleardot.gif\n",
            "https://www.google.com/images/cleardot.gif\n",
            "https://www.google.com/images/cleardot.gif\n",
            "https://www.privateislandsonline.com/images/mappoint.png\n",
            "https://www.privateislandsonline.com/images/map-overlay2.jpg\n",
            "https://www.privateislandsonline.com/images/ajax-loader.gif\n",
            "https://www.privateislandsonline.com/img/arrow-red.png\n",
            "https://fonts.gstatic.com/s/i/productlogos/translate/v14/24px.svg\n"
          ]
        }
      ]
    },
    {
      "cell_type": "code",
      "source": [
        "def get_html(url, sleep = 5, retries = 3):\n",
        "  time.sleep(sleep)\n",
        "  soup = None\n",
        "  Driver = get_driver()\n",
        "  for i in range (1, retries+1):\n",
        "    try:\n",
        "      time.sleep(sleep)  # Allow 2 seconds for the web page to open\n",
        "      Driver.get(url)\n",
        "\n",
        "    except TimeoutException as ex:\n",
        "        isrunning = 0\n",
        "        print(f\"Timeout error on {url} the exception is: {ex}\")\n",
        "        continue\n",
        "    else:\n",
        "        break\n",
        "  return soup\n",
        "\n",
        "def make_path(url):\n",
        "  # make file name\n",
        "  part = url.split(\"/\")\n",
        "  if len(part) == 6:\n",
        "    file_name = part[-3]+'-'+part[-2]+'-'+part[-1]\n",
        "  else:\n",
        "    file_name = part[-4]+'-'+part[-3]+'-'+part[-2]+'-'+part[-1]\n",
        "\n",
        "  save_path = os.path.join(DATA_DIR,file_name)\n",
        "  return save_path, file_name\n",
        "\n",
        "def save_html(all_html, save_path):\n",
        "  with open(save_path+\".html\", \"w+\", encoding='utf-8') as file:\n",
        "    file.write(str(all_html))\n"
      ],
      "metadata": {
        "id": "GMFacVI47Ix6"
      },
      "execution_count": null,
      "outputs": []
    },
    {
      "cell_type": "code",
      "source": [
        "for url in test_url:\n",
        "\n",
        "  (save_path, file_name) = make_path(url)\n",
        "  if os.path.exists(save_path):\n",
        "    continue\n",
        "\n",
        "  get_html(url)\n",
        "\n",
        "  save_html(soup, save_path)\n",
        "\n",
        "\n"
      ],
      "metadata": {
        "id": "37BttJx07bsa"
      },
      "execution_count": null,
      "outputs": []
    },
    {
      "cell_type": "code",
      "source": [
        "islands_files = os.listdir(DATA_DIR)\n",
        "islands_files = [i for i in islands_files if '.html' in i]"
      ],
      "metadata": {
        "id": "f9CtfTdiVlt0"
      },
      "execution_count": null,
      "outputs": []
    },
    {
      "cell_type": "code",
      "source": [
        "islands_files"
      ],
      "metadata": {
        "id": "ZscWXKFkeWW5"
      },
      "execution_count": null,
      "outputs": []
    },
    {
      "cell_type": "code",
      "source": [
        "with open(os.path.join(DATA_DIR,islands_files[1]), 'r') as f:\n",
        "  html = f.read()\n",
        "\n",
        "soup = BeautifulSoup(html)\n",
        "basic_info = soup.select(\"div\", {'ul':'class=\"basic-info mb-50\"'})\n",
        "basic_info"
      ],
      "metadata": {
        "id": "__-Rln6achaV"
      },
      "execution_count": null,
      "outputs": []
    },
    {
      "cell_type": "code",
      "source": [
        "print(basic_info)"
      ],
      "metadata": {
        "id": "RE5_PVohech-"
      },
      "execution_count": null,
      "outputs": []
    },
    {
      "cell_type": "code",
      "source": [
        "content = soup.find('basic-info mb-50')\n",
        "\n",
        "print(content)"
      ],
      "metadata": {
        "id": "wufeCK0lj3oK"
      },
      "execution_count": null,
      "outputs": []
    },
    {
      "cell_type": "code",
      "source": [
        "df = pd.read_html(str(soup), attrs = {'class': 'basic-info mb-50'})[0]"
      ],
      "metadata": {
        "id": "WB4ZwSLmcskY"
      },
      "execution_count": null,
      "outputs": []
    },
    {
      "cell_type": "code",
      "source": [
        "basic_info"
      ],
      "metadata": {
        "id": "DMkU4OfQcshN"
      },
      "execution_count": null,
      "outputs": []
    }
  ]
}