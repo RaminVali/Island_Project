{
  "nbformat": 4,
  "nbformat_minor": 0,
  "metadata": {
    "colab": {
      "provenance": [],
      "mount_file_id": "1lbXHWG6FF4uO_kmddv5omoQZNpSH8zOj",
      "authorship_tag": "ABX9TyPDC9U/u6npQub54RnWGemC",
      "include_colab_link": true
    },
    "kernelspec": {
      "name": "python3",
      "display_name": "Python 3"
    },
    "language_info": {
      "name": "python"
    }
  },
  "cells": [
    {
      "cell_type": "markdown",
      "metadata": {
        "id": "view-in-github",
        "colab_type": "text"
      },
      "source": [
        "<a href=\"https://colab.research.google.com/github/RaminVali/Island_Project/blob/main/scraping.ipynb\" target=\"_parent\"><img src=\"https://colab.research.google.com/assets/colab-badge.svg\" alt=\"Open In Colab\"/></a>"
      ]
    },
    {
      "cell_type": "markdown",
      "source": [
        "Setting up Selenium Chorme dirver to use for scraping and scrolling donwn etc.\n",
        "\n",
        "Google colab has issues with selenium and the associated websidrver because their ubunto release does not include snap. Here is a workaround for this issue on google colab. Please see [here](https://stackoverflow.com/questions/75164313/selenium-in-google-colab-stopped-working-showing-an-error-as-service-chromedrive) for more details."
      ],
      "metadata": {
        "id": "vRVgZB_mS3SA"
      }
    },
    {
      "cell_type": "code",
      "source": [
        "%%shell\n",
        "# Ubuntu no longer distributes chromium-browser outside of snap\n",
        "#\n",
        "# Proposed solution: https://askubuntu.com/questions/1204571/how-to-install-chromium-without-snap\n",
        "\n",
        "# Add debian buster\n",
        "cat > /etc/apt/sources.list.d/debian.list <<'EOF'\n",
        "deb [arch=amd64 signed-by=/usr/share/keyrings/debian-buster.gpg] http://deb.debian.org/debian buster main\n",
        "deb [arch=amd64 signed-by=/usr/share/keyrings/debian-buster-updates.gpg] http://deb.debian.org/debian buster-updates main\n",
        "deb [arch=amd64 signed-by=/usr/share/keyrings/debian-security-buster.gpg] http://deb.debian.org/debian-security buster/updates main\n",
        "EOF\n",
        "\n",
        "# Add keys\n",
        "apt-key adv --keyserver keyserver.ubuntu.com --recv-keys DCC9EFBF77E11517\n",
        "apt-key adv --keyserver keyserver.ubuntu.com --recv-keys 648ACFD622F3D138\n",
        "apt-key adv --keyserver keyserver.ubuntu.com --recv-keys 112695A0E562B32A\n",
        "\n",
        "apt-key export 77E11517 | gpg --dearmour -o /usr/share/keyrings/debian-buster.gpg\n",
        "apt-key export 22F3D138 | gpg --dearmour -o /usr/share/keyrings/debian-buster-updates.gpg\n",
        "apt-key export E562B32A | gpg --dearmour -o /usr/share/keyrings/debian-security-buster.gpg\n",
        "\n",
        "# Prefer debian repo for chromium* packages only\n",
        "# Note the double-blank lines between entries\n",
        "cat > /etc/apt/preferences.d/chromium.pref << 'EOF'\n",
        "Package: *\n",
        "Pin: release a=eoan\n",
        "Pin-Priority: 500\n",
        "\n",
        "\n",
        "Package: *\n",
        "Pin: origin \"deb.debian.org\"\n",
        "Pin-Priority: 300\n",
        "\n",
        "\n",
        "Package: chromium*\n",
        "Pin: origin \"deb.debian.org\"\n",
        "Pin-Priority: 700\n",
        "EOF\n",
        "\n",
        "# Install chromium and chromium-driver\n",
        "apt-get install chromium chromium-driver\n",
        "apt-get update\n",
        "\n",
        "\n",
        "# Install selenium\n",
        "pip install selenium\n",
        "\n",
        "# Install\n",
        "pip install webdriver-manager"
      ],
      "metadata": {
        "colab": {
          "base_uri": "https://localhost:8080/"
        },
        "id": "6XK-xCN4RuGg",
        "outputId": "f177f817-aed8-4b05-aee1-15a68325b575"
      },
      "execution_count": 14,
      "outputs": [
        {
          "output_type": "stream",
          "name": "stdout",
          "text": [
            "Executing: /tmp/apt-key-gpghome.4DtJhP0DK5/gpg.1.sh --keyserver keyserver.ubuntu.com --recv-keys DCC9EFBF77E11517\n",
            "gpg: key DCC9EFBF77E11517: \"Debian Stable Release Key (10/buster) <debian-release@lists.debian.org>\" not changed\n",
            "gpg: Total number processed: 1\n",
            "gpg:              unchanged: 1\n",
            "Executing: /tmp/apt-key-gpghome.3QYnBn0Xzs/gpg.1.sh --keyserver keyserver.ubuntu.com --recv-keys 648ACFD622F3D138\n",
            "gpg: key DC30D7C23CBBABEE: \"Debian Archive Automatic Signing Key (10/buster) <ftpmaster@debian.org>\" not changed\n",
            "gpg: Total number processed: 1\n",
            "gpg:              unchanged: 1\n",
            "Executing: /tmp/apt-key-gpghome.Taoa53L5E3/gpg.1.sh --keyserver keyserver.ubuntu.com --recv-keys 112695A0E562B32A\n",
            "gpg: key 4DFAB270CAA96DFA: \"Debian Security Archive Automatic Signing Key (10/buster) <ftpmaster@debian.org>\" not changed\n",
            "gpg: Total number processed: 1\n",
            "gpg:              unchanged: 1\n",
            "gpg: cannot open '/dev/tty': No such device or address\n",
            "Warning: apt-key output should not be parsed (stdout is not a terminal)\n",
            "gpg: [stdout]: write error: Broken pipe\n",
            "gpg: filter_flush failed on close: Broken pipe\n",
            "gpg: cannot open '/dev/tty': No such device or address\n",
            "Warning: apt-key output should not be parsed (stdout is not a terminal)\n",
            "gpg: [stdout]: write error: Broken pipe\n",
            "gpg: filter_flush failed on close: Broken pipe\n",
            "gpg: cannot open '/dev/tty': No such device or address\n",
            "Warning: apt-key output should not be parsed (stdout is not a terminal)\n",
            "gpg: [stdout]: write error: Broken pipe\n",
            "gpg: filter_flush failed on close: Broken pipe\n",
            "Reading package lists... Done\n",
            "Building dependency tree       \n",
            "Reading state information... Done\n",
            "The following additional packages will be installed:\n",
            "  chromium-common chromium-sandbox libevent-2.1-6 libfontenc1 libicu63\n",
            "  libimobiledevice6 libjpeg62-turbo libplist3 libre2-5 libu2f-udev libudev1\n",
            "  libupower-glib3 libusbmuxd6 libvpx5 libxkbfile1 libxtst6 libxxf86dga1\n",
            "  notification-daemon udev upower usbmuxd x11-utils\n",
            "Suggested packages:\n",
            "  chromium-l10n chromium-shell libusbmuxd-tools mesa-utils\n",
            "The following NEW packages will be installed:\n",
            "  chromium chromium-common chromium-driver chromium-sandbox libevent-2.1-6\n",
            "  libfontenc1 libicu63 libimobiledevice6 libjpeg62-turbo libplist3 libre2-5\n",
            "  libu2f-udev libupower-glib3 libusbmuxd6 libvpx5 libxkbfile1 libxtst6\n",
            "  libxxf86dga1 notification-daemon udev upower usbmuxd x11-utils\n",
            "The following packages will be upgraded:\n",
            "  libudev1\n",
            "1 upgraded, 23 newly installed, 0 to remove and 14 not upgraded.\n",
            "Need to get 76.2 MB of archives.\n",
            "After this operation, 266 MB of additional disk space will be used.\n",
            "Get:1 http://deb.debian.org/debian buster/main amd64 libevent-2.1-6 amd64 2.1.8-stable-4 [177 kB]\n",
            "Get:2 http://deb.debian.org/debian buster/main amd64 libicu63 amd64 63.1-6+deb10u3 [8,293 kB]\n",
            "Get:3 http://archive.ubuntu.com/ubuntu focal-updates/main amd64 libudev1 amd64 245.4-4ubuntu3.22 [75.4 kB]\n",
            "Get:4 http://deb.debian.org/debian buster/main amd64 libjpeg62-turbo amd64 1:1.5.2-2+deb10u1 [133 kB]\n",
            "Get:5 http://deb.debian.org/debian buster/main amd64 libvpx5 amd64 1.7.0-3+deb10u1 [800 kB]\n",
            "Get:6 http://deb.debian.org/debian buster/main amd64 chromium-common amd64 90.0.4430.212-1~deb10u1 [1,423 kB]\n",
            "Get:7 http://deb.debian.org/debian buster/main amd64 chromium amd64 90.0.4430.212-1~deb10u1 [58.3 MB]\n",
            "Get:8 http://archive.ubuntu.com/ubuntu focal-updates/main amd64 udev amd64 245.4-4ubuntu3.22 [1,366 kB]\n",
            "Get:9 http://archive.ubuntu.com/ubuntu focal/main amd64 libre2-5 amd64 20200101+dfsg-1build1 [162 kB]\n",
            "Get:10 http://deb.debian.org/debian buster/main amd64 chromium-driver amd64 90.0.4430.212-1~deb10u1 [4,703 kB]\n",
            "Get:11 http://archive.ubuntu.com/ubuntu focal/main amd64 libfontenc1 amd64 1:1.1.4-0ubuntu1 [14.0 kB]\n",
            "Get:12 http://archive.ubuntu.com/ubuntu focal/main amd64 libxkbfile1 amd64 1:1.1.0-1 [65.3 kB]\n",
            "Get:13 http://archive.ubuntu.com/ubuntu focal/main amd64 libxtst6 amd64 2:1.2.3-1 [12.8 kB]\n",
            "Get:14 http://archive.ubuntu.com/ubuntu focal/main amd64 libxxf86dga1 amd64 2:1.1.5-0ubuntu1 [12.0 kB]\n",
            "Get:15 http://archive.ubuntu.com/ubuntu focal/main amd64 x11-utils amd64 7.7+5 [199 kB]\n",
            "Get:16 http://archive.ubuntu.com/ubuntu focal/main amd64 libplist3 amd64 2.1.0-4build2 [31.6 kB]\n",
            "Get:17 http://archive.ubuntu.com/ubuntu focal/main amd64 libusbmuxd6 amd64 2.0.1-2 [19.1 kB]\n",
            "Get:18 http://archive.ubuntu.com/ubuntu focal/main amd64 libimobiledevice6 amd64 1.2.1~git20191129.9f79242-1build1 [65.2 kB]\n",
            "Get:19 http://deb.debian.org/debian buster/main amd64 chromium-sandbox amd64 90.0.4430.212-1~deb10u1 [146 kB]\n",
            "Get:20 http://archive.ubuntu.com/ubuntu focal/main amd64 libu2f-udev all 1.1.10-1 [6,108 B]\n",
            "Get:21 http://archive.ubuntu.com/ubuntu focal/main amd64 libupower-glib3 amd64 0.99.11-1build2 [43.2 kB]\n",
            "Get:22 http://archive.ubuntu.com/ubuntu focal/universe amd64 notification-daemon amd64 3.20.0-4 [37.0 kB]\n",
            "Get:23 http://archive.ubuntu.com/ubuntu focal/main amd64 upower amd64 0.99.11-1build2 [104 kB]\n",
            "Get:24 http://archive.ubuntu.com/ubuntu focal/main amd64 usbmuxd amd64 1.1.1~git20191130.9af2b12-1 [38.4 kB]\n",
            "Fetched 76.2 MB in 2s (46.4 MB/s)\n",
            "(Reading database ... 123105 files and directories currently installed.)\n",
            "Preparing to unpack .../libudev1_245.4-4ubuntu3.22_amd64.deb ...\n",
            "Unpacking libudev1:amd64 (245.4-4ubuntu3.22) over (245.4-4ubuntu3.21) ...\n",
            "Setting up libudev1:amd64 (245.4-4ubuntu3.22) ...\n",
            "Selecting previously unselected package udev.\n",
            "(Reading database ... 123105 files and directories currently installed.)\n",
            "Preparing to unpack .../00-udev_245.4-4ubuntu3.22_amd64.deb ...\n",
            "Unpacking udev (245.4-4ubuntu3.22) ...\n",
            "Selecting previously unselected package libevent-2.1-6:amd64.\n",
            "Preparing to unpack .../01-libevent-2.1-6_2.1.8-stable-4_amd64.deb ...\n",
            "Unpacking libevent-2.1-6:amd64 (2.1.8-stable-4) ...\n",
            "Selecting previously unselected package libicu63:amd64.\n",
            "Preparing to unpack .../02-libicu63_63.1-6+deb10u3_amd64.deb ...\n",
            "Unpacking libicu63:amd64 (63.1-6+deb10u3) ...\n",
            "Selecting previously unselected package libjpeg62-turbo:amd64.\n",
            "Preparing to unpack .../03-libjpeg62-turbo_1%3a1.5.2-2+deb10u1_amd64.deb ...\n",
            "Unpacking libjpeg62-turbo:amd64 (1:1.5.2-2+deb10u1) ...\n",
            "Selecting previously unselected package libre2-5:amd64.\n",
            "Preparing to unpack .../04-libre2-5_20200101+dfsg-1build1_amd64.deb ...\n",
            "Unpacking libre2-5:amd64 (20200101+dfsg-1build1) ...\n",
            "Selecting previously unselected package libvpx5:amd64.\n",
            "Preparing to unpack .../05-libvpx5_1.7.0-3+deb10u1_amd64.deb ...\n",
            "Unpacking libvpx5:amd64 (1.7.0-3+deb10u1) ...\n",
            "Selecting previously unselected package libfontenc1:amd64.\n",
            "Preparing to unpack .../06-libfontenc1_1%3a1.1.4-0ubuntu1_amd64.deb ...\n",
            "Unpacking libfontenc1:amd64 (1:1.1.4-0ubuntu1) ...\n",
            "Selecting previously unselected package libxkbfile1:amd64.\n",
            "Preparing to unpack .../07-libxkbfile1_1%3a1.1.0-1_amd64.deb ...\n",
            "Unpacking libxkbfile1:amd64 (1:1.1.0-1) ...\n",
            "Selecting previously unselected package libxtst6:amd64.\n",
            "Preparing to unpack .../08-libxtst6_2%3a1.2.3-1_amd64.deb ...\n",
            "Unpacking libxtst6:amd64 (2:1.2.3-1) ...\n",
            "Selecting previously unselected package libxxf86dga1:amd64.\n",
            "Preparing to unpack .../09-libxxf86dga1_2%3a1.1.5-0ubuntu1_amd64.deb ...\n",
            "Unpacking libxxf86dga1:amd64 (2:1.1.5-0ubuntu1) ...\n",
            "Selecting previously unselected package x11-utils.\n",
            "Preparing to unpack .../10-x11-utils_7.7+5_amd64.deb ...\n",
            "Unpacking x11-utils (7.7+5) ...\n",
            "Selecting previously unselected package chromium-common.\n",
            "Preparing to unpack .../11-chromium-common_90.0.4430.212-1~deb10u1_amd64.deb ...\n",
            "Unpacking chromium-common (90.0.4430.212-1~deb10u1) ...\n",
            "Selecting previously unselected package chromium.\n",
            "Preparing to unpack .../12-chromium_90.0.4430.212-1~deb10u1_amd64.deb ...\n",
            "Unpacking chromium (90.0.4430.212-1~deb10u1) ...\n",
            "Selecting previously unselected package chromium-driver.\n",
            "Preparing to unpack .../13-chromium-driver_90.0.4430.212-1~deb10u1_amd64.deb ...\n",
            "Unpacking chromium-driver (90.0.4430.212-1~deb10u1) ...\n",
            "Selecting previously unselected package chromium-sandbox.\n",
            "Preparing to unpack .../14-chromium-sandbox_90.0.4430.212-1~deb10u1_amd64.deb ...\n",
            "Unpacking chromium-sandbox (90.0.4430.212-1~deb10u1) ...\n",
            "Selecting previously unselected package libplist3:amd64.\n",
            "Preparing to unpack .../15-libplist3_2.1.0-4build2_amd64.deb ...\n",
            "Unpacking libplist3:amd64 (2.1.0-4build2) ...\n",
            "Selecting previously unselected package libusbmuxd6:amd64.\n",
            "Preparing to unpack .../16-libusbmuxd6_2.0.1-2_amd64.deb ...\n",
            "Unpacking libusbmuxd6:amd64 (2.0.1-2) ...\n",
            "Selecting previously unselected package libimobiledevice6:amd64.\n",
            "Preparing to unpack .../17-libimobiledevice6_1.2.1~git20191129.9f79242-1build1_amd64.deb ...\n",
            "Unpacking libimobiledevice6:amd64 (1.2.1~git20191129.9f79242-1build1) ...\n",
            "Selecting previously unselected package libu2f-udev.\n",
            "Preparing to unpack .../18-libu2f-udev_1.1.10-1_all.deb ...\n",
            "Unpacking libu2f-udev (1.1.10-1) ...\n",
            "Selecting previously unselected package libupower-glib3:amd64.\n",
            "Preparing to unpack .../19-libupower-glib3_0.99.11-1build2_amd64.deb ...\n",
            "Unpacking libupower-glib3:amd64 (0.99.11-1build2) ...\n",
            "Selecting previously unselected package notification-daemon.\n",
            "Preparing to unpack .../20-notification-daemon_3.20.0-4_amd64.deb ...\n",
            "Unpacking notification-daemon (3.20.0-4) ...\n",
            "Selecting previously unselected package upower.\n",
            "Preparing to unpack .../21-upower_0.99.11-1build2_amd64.deb ...\n",
            "Unpacking upower (0.99.11-1build2) ...\n",
            "Selecting previously unselected package usbmuxd.\n",
            "Preparing to unpack .../22-usbmuxd_1.1.1~git20191130.9af2b12-1_amd64.deb ...\n",
            "Unpacking usbmuxd (1.1.1~git20191130.9af2b12-1) ...\n",
            "Setting up libplist3:amd64 (2.1.0-4build2) ...\n",
            "Setting up libxtst6:amd64 (2:1.2.3-1) ...\n",
            "Setting up libxxf86dga1:amd64 (2:1.1.5-0ubuntu1) ...\n",
            "Setting up chromium-sandbox (90.0.4430.212-1~deb10u1) ...\n",
            "Setting up libicu63:amd64 (63.1-6+deb10u3) ...\n",
            "Setting up notification-daemon (3.20.0-4) ...\n",
            "Setting up libfontenc1:amd64 (1:1.1.4-0ubuntu1) ...\n",
            "Setting up libjpeg62-turbo:amd64 (1:1.5.2-2+deb10u1) ...\n",
            "Setting up udev (245.4-4ubuntu3.22) ...\n",
            "invoke-rc.d: could not determine current runlevel\n",
            "invoke-rc.d: policy-rc.d denied execution of start.\n",
            "Setting up libevent-2.1-6:amd64 (2.1.8-stable-4) ...\n",
            "Setting up libusbmuxd6:amd64 (2.0.1-2) ...\n",
            "Setting up libupower-glib3:amd64 (0.99.11-1build2) ...\n",
            "Setting up libre2-5:amd64 (20200101+dfsg-1build1) ...\n",
            "Setting up libxkbfile1:amd64 (1:1.1.0-1) ...\n",
            "Setting up libimobiledevice6:amd64 (1.2.1~git20191129.9f79242-1build1) ...\n",
            "Setting up libvpx5:amd64 (1.7.0-3+deb10u1) ...\n",
            "Setting up libu2f-udev (1.1.10-1) ...\n",
            "Failed to send reload request: No such file or directory\n",
            "Setting up upower (0.99.11-1build2) ...\n",
            "Setting up usbmuxd (1.1.1~git20191130.9af2b12-1) ...\n",
            "Warning: The home dir /var/lib/usbmux you specified can't be accessed: No such file or directory\n",
            "Adding system user `usbmux' (UID 105) ...\n",
            "Adding new user `usbmux' (UID 105) with group `plugdev' ...\n",
            "Not creating home directory `/var/lib/usbmux'.\n",
            "Setting up x11-utils (7.7+5) ...\n",
            "Setting up chromium-common (90.0.4430.212-1~deb10u1) ...\n",
            "Setting up chromium (90.0.4430.212-1~deb10u1) ...\n",
            "update-alternatives: using /usr/bin/chromium to provide /usr/bin/x-www-browser (x-www-browser) in auto mode\n",
            "update-alternatives: using /usr/bin/chromium to provide /usr/bin/gnome-www-browser (gnome-www-browser) in auto mode\n",
            "Setting up chromium-driver (90.0.4430.212-1~deb10u1) ...\n",
            "Processing triggers for systemd (245.4-4ubuntu3.22) ...\n",
            "Processing triggers for man-db (2.9.1-1) ...\n",
            "Processing triggers for dbus (1.12.16-2ubuntu2.3) ...\n",
            "Processing triggers for mime-support (3.64ubuntu1) ...\n",
            "Processing triggers for hicolor-icon-theme (0.17-2) ...\n",
            "Processing triggers for libc-bin (2.31-0ubuntu9.9) ...\n",
            "Hit:1 http://deb.debian.org/debian buster InRelease\n",
            "Hit:2 http://deb.debian.org/debian buster-updates InRelease\n",
            "Hit:3 http://deb.debian.org/debian-security buster/updates InRelease\n",
            "Hit:4 https://developer.download.nvidia.com/compute/cuda/repos/ubuntu2004/x86_64  InRelease\n",
            "Hit:5 https://cloud.r-project.org/bin/linux/ubuntu focal-cran40/ InRelease\n",
            "Hit:6 http://security.ubuntu.com/ubuntu focal-security InRelease\n",
            "Hit:7 http://ppa.launchpad.net/c2d4u.team/c2d4u4.0+/ubuntu focal InRelease\n",
            "Hit:8 http://archive.ubuntu.com/ubuntu focal InRelease\n",
            "Hit:9 http://archive.ubuntu.com/ubuntu focal-updates InRelease\n",
            "Hit:10 http://ppa.launchpad.net/cran/libgit2/ubuntu focal InRelease\n",
            "Hit:11 http://archive.ubuntu.com/ubuntu focal-backports InRelease\n",
            "Hit:12 http://ppa.launchpad.net/deadsnakes/ppa/ubuntu focal InRelease\n",
            "Hit:13 http://ppa.launchpad.net/graphics-drivers/ppa/ubuntu focal InRelease\n",
            "Hit:14 http://ppa.launchpad.net/ubuntugis/ppa/ubuntu focal InRelease\n",
            "Reading package lists... Done\n",
            "Requirement already satisfied: selenium in /usr/local/lib/python3.10/dist-packages (4.10.0)\n",
            "Requirement already satisfied: urllib3[socks]<3,>=1.26 in /usr/local/lib/python3.10/dist-packages (from selenium) (1.26.16)\n",
            "Requirement already satisfied: trio~=0.17 in /usr/local/lib/python3.10/dist-packages (from selenium) (0.22.2)\n",
            "Requirement already satisfied: trio-websocket~=0.9 in /usr/local/lib/python3.10/dist-packages (from selenium) (0.10.3)\n",
            "Requirement already satisfied: certifi>=2021.10.8 in /usr/local/lib/python3.10/dist-packages (from selenium) (2023.5.7)\n",
            "Requirement already satisfied: attrs>=20.1.0 in /usr/local/lib/python3.10/dist-packages (from trio~=0.17->selenium) (23.1.0)\n",
            "Requirement already satisfied: sortedcontainers in /usr/local/lib/python3.10/dist-packages (from trio~=0.17->selenium) (2.4.0)\n",
            "Requirement already satisfied: idna in /usr/local/lib/python3.10/dist-packages (from trio~=0.17->selenium) (3.4)\n",
            "Requirement already satisfied: outcome in /usr/local/lib/python3.10/dist-packages (from trio~=0.17->selenium) (1.2.0)\n",
            "Requirement already satisfied: sniffio in /usr/local/lib/python3.10/dist-packages (from trio~=0.17->selenium) (1.3.0)\n",
            "Requirement already satisfied: exceptiongroup>=1.0.0rc9 in /usr/local/lib/python3.10/dist-packages (from trio~=0.17->selenium) (1.1.2)\n",
            "Requirement already satisfied: wsproto>=0.14 in /usr/local/lib/python3.10/dist-packages (from trio-websocket~=0.9->selenium) (1.2.0)\n",
            "Requirement already satisfied: PySocks!=1.5.7,<2.0,>=1.5.6 in /usr/local/lib/python3.10/dist-packages (from urllib3[socks]<3,>=1.26->selenium) (1.7.1)\n",
            "Requirement already satisfied: h11<1,>=0.9.0 in /usr/local/lib/python3.10/dist-packages (from wsproto>=0.14->trio-websocket~=0.9->selenium) (0.14.0)\n",
            "Requirement already satisfied: webdriver-manager in /usr/local/lib/python3.10/dist-packages (3.8.6)\n",
            "Requirement already satisfied: requests in /usr/local/lib/python3.10/dist-packages (from webdriver-manager) (2.27.1)\n",
            "Requirement already satisfied: python-dotenv in /usr/local/lib/python3.10/dist-packages (from webdriver-manager) (1.0.0)\n",
            "Requirement already satisfied: tqdm in /usr/local/lib/python3.10/dist-packages (from webdriver-manager) (4.65.0)\n",
            "Requirement already satisfied: packaging in /usr/local/lib/python3.10/dist-packages (from webdriver-manager) (23.1)\n",
            "Requirement already satisfied: urllib3<1.27,>=1.21.1 in /usr/local/lib/python3.10/dist-packages (from requests->webdriver-manager) (1.26.16)\n",
            "Requirement already satisfied: certifi>=2017.4.17 in /usr/local/lib/python3.10/dist-packages (from requests->webdriver-manager) (2023.5.7)\n",
            "Requirement already satisfied: charset-normalizer~=2.0.0 in /usr/local/lib/python3.10/dist-packages (from requests->webdriver-manager) (2.0.12)\n",
            "Requirement already satisfied: idna<4,>=2.5 in /usr/local/lib/python3.10/dist-packages (from requests->webdriver-manager) (3.4)\n"
          ]
        },
        {
          "output_type": "execute_result",
          "data": {
            "text/plain": []
          },
          "metadata": {},
          "execution_count": 14
        }
      ]
    },
    {
      "cell_type": "code",
      "source": [
        "! ls /usr/bin/chromedriver"
      ],
      "metadata": {
        "colab": {
          "base_uri": "https://localhost:8080/"
        },
        "id": "8QPoO4XgLEPx",
        "outputId": "1e62a333-5a7c-41c9-d12d-4abefbf56aa1"
      },
      "execution_count": 15,
      "outputs": [
        {
          "output_type": "stream",
          "name": "stdout",
          "text": [
            "/usr/bin/chromedriver\n"
          ]
        }
      ]
    },
    {
      "cell_type": "markdown",
      "source": [
        "Importing Packages"
      ],
      "metadata": {
        "id": "Alx8mElmoS_p"
      }
    },
    {
      "cell_type": "code",
      "source": [
        "import time\n",
        "from selenium import webdriver\n",
        "from selenium.webdriver.chrome.options import Options\n",
        "from selenium.webdriver.chrome.service import Service\n",
        "from selenium.common.exceptions import TimeoutException\n",
        "from selenium.webdriver.common.by import By\n",
        "\n",
        "import os\n",
        "from bs4 import BeautifulSoup\n",
        "from urllib.parse import urljoin\n",
        "from collections import defaultdict\n",
        "\n",
        "import re\n",
        "\n",
        "\n",
        "import requests\n",
        "import pandas as pd"
      ],
      "metadata": {
        "id": "Vlh632FWoR6n"
      },
      "execution_count": 16,
      "outputs": []
    },
    {
      "cell_type": "markdown",
      "source": [
        "# Function Declerations\n",
        "\n",
        "## Setting up the webdriver with appropriate options\n",
        "### Setting up a function for the driver so we always inherit the options\n",
        "To not be flagged as a robot by the website, see [here](https://stackoverflow.com/questions/71885891/urllib3-exceptions-maxretryerror-httpconnectionpoolhost-localhost-port-5958)"
      ],
      "metadata": {
        "id": "WFh-7nevnTlj"
      }
    },
    {
      "cell_type": "code",
      "source": [
        "def get_driver():\n",
        "  #service = Service(executable_path='/usr/lib/chromium-browser/chromedriver/usr/bin') #this gives a version mismatch error bweteen the driver and the Chormium\n",
        "  service = Service(executable_path='/usr/bin/chromedriver') #this is where the correct version of the chromium and webdriver live\n",
        "  options = Options()\n",
        "  options.add_argument(\"--headless\")\n",
        "  options.add_argument(\"--no-sandbox\")\n",
        "  options.add_argument('--disable-dev-shm-usage')\n",
        "  options.add_argument('--disable-blink-features=AutomationControlled')\n",
        "  driver = webdriver.Chrome(service = service, options = options)\n",
        "  return driver\n",
        "\n",
        "\n",
        "# function to manipulate a list into two lists\n",
        "def zigzag(seq):\n",
        "  results = [], []\n",
        "  for i, e in enumerate(seq):\n",
        "    results[i%2].append(e)\n",
        "  return results\n"
      ],
      "metadata": {
        "id": "BcMAh9H9X3jh"
      },
      "execution_count": 13,
      "outputs": []
    },
    {
      "cell_type": "markdown",
      "source": [
        "Setting up the driver and doing infinite scrolling to get all the html form the main website page. We will get the hrefs with all the links. [Source](https://medium.com/analytics-vidhya/using-python-and-selenium-to-scrape-infinite-scroll-web-pages-825d12c24ec7)\n",
        "\n",
        "Only uncomment the below if you want the main page of the ```privateislands.com``` to be scanned. I have already scanned this file and I use it for all the testing. It is saved as output1."
      ],
      "metadata": {
        "id": "QwUJ7yjhojwl"
      }
    },
    {
      "cell_type": "code",
      "source": [
        "# # Web scrapper for infinite scrolling page\n",
        "# driver = get_driver()\n",
        "# driver.get(\"https://www.privateislandsonline.com/search?availability=sale&region=&q2=&price_range=0%3A50000000&size_range=0%3A1000\")\n",
        "# time.sleep(2)  # Allow 2 seconds for the web page to open\n",
        "# scroll_pause_time = 2 # You can set your own pause time. My laptop is a bit slow so I use 1 sec\n",
        "# screen_height = driver.execute_script(\"return window.screen.height;\")   # get the screen height of the web\n",
        "# i = 1\n",
        "\n",
        "# while True:\n",
        "#     # scroll one screen height each time\n",
        "#     driver.execute_script(\"window.scrollTo(0, {screen_height}*{i});\".format(screen_height=screen_height, i=i))\n",
        "#     i += 1\n",
        "#     time.sleep(scroll_pause_time)\n",
        "#     # update scroll height each time after scrolled, as the scroll height can change after we scrolled the page\n",
        "#     scroll_height = driver.execute_script(\"return document.body.scrollHeight;\")\n",
        "#     # Break the loop when the height we need to scroll to is larger than the total scroll height\n",
        "#     if (screen_height) * i > scroll_height:\n",
        "#         break\n",
        "\n",
        "# soup = BeautifulSoup(driver.page_source, \"html.parser\")\n"
      ],
      "metadata": {
        "id": "vYgj7CgUOHH3"
      },
      "execution_count": 5,
      "outputs": []
    },
    {
      "cell_type": "markdown",
      "source": [
        "Saving the contents we scraped. Uncomment as above."
      ],
      "metadata": {
        "id": "Eqhj61JMpCLv"
      }
    },
    {
      "cell_type": "code",
      "source": [
        "# with open(\"output1.html\", \"w\", encoding='utf-8') as file:\n",
        "#     file.write(str(soup))"
      ],
      "metadata": {
        "id": "vLHrMFJ2pA8U"
      },
      "execution_count": 6,
      "outputs": []
    },
    {
      "cell_type": "markdown",
      "source": [
        "Loading the saved contents again"
      ],
      "metadata": {
        "id": "ld7V5ykupypg"
      }
    },
    {
      "cell_type": "code",
      "source": [
        "path = '/content/drive/MyDrive/Colab Notebooks/Private_Island_Project/Island_Project/output1.html'\n",
        "\n",
        "with open(path, 'r') as f:\n",
        "    contents = f.read()\n",
        "    soup = BeautifulSoup(contents, 'lxml')\n",
        "\n",
        "##### Extract Individual Island URLs #####\n",
        "urls = []\n",
        "for parent in soup.find_all('div', class_=\"img-container\"):\n",
        "    url = parent.find('a').get('href')\n",
        "    urls.append(url)\n",
        "\n",
        "print(f\"We have found {len(urls)} islands for sale\")"
      ],
      "metadata": {
        "colab": {
          "base_uri": "https://localhost:8080/"
        },
        "id": "vPoipOeYpA3-",
        "outputId": "c43245c8-b29c-4dfc-f335-7e5b3c0b9fca"
      },
      "execution_count": 7,
      "outputs": [
        {
          "output_type": "stream",
          "name": "stdout",
          "text": [
            "We have found 611 islands for sale\n"
          ]
        }
      ]
    },
    {
      "cell_type": "markdown",
      "source": [
        "We will go through each 611 URLs and dump the page contents into a seperate folder. The folder name is going to be from the URL, where it is region/country/island_name or region/region/country/island_name."
      ],
      "metadata": {
        "id": "mlY4IyysqxqJ"
      }
    },
    {
      "cell_type": "markdown",
      "source": [
        "test_url = ['https://www.privateislandsonline.com/asia/thailand/rangyai-island',\n",
        " 'https://www.privateislandsonline.com/europe/spain/2867']"
      ],
      "metadata": {
        "id": "ovCiXtpVxV4Z"
      }
    },
    {
      "cell_type": "code",
      "source": [],
      "metadata": {
        "id": "wLnb4q0OcqbJ"
      },
      "execution_count": 7,
      "outputs": []
    },
    {
      "cell_type": "code",
      "source": [
        "test_url = urls[0]\n",
        "test_url"
      ],
      "metadata": {
        "colab": {
          "base_uri": "https://localhost:8080/",
          "height": 36
        },
        "id": "Hmc7D6sXpAyn",
        "outputId": "9b370c31-1fb4-49c8-cc12-83cb219d057f"
      },
      "execution_count": 8,
      "outputs": [
        {
          "output_type": "execute_result",
          "data": {
            "text/plain": [
              "'https://www.privateislandsonline.com/asia/thailand/rangyai-island'"
            ],
            "application/vnd.google.colaboratory.intrinsic+json": {
              "type": "string"
            }
          },
          "metadata": {},
          "execution_count": 8
        }
      ]
    },
    {
      "cell_type": "code",
      "source": [
        "test_url = ['https://www.privateislandsonline.com/europe/spain/2867','https://www.privateislandsonline.com/asia/thailand/rangyai-island']"
      ],
      "metadata": {
        "id": "xIv1NF_d-vRP"
      },
      "execution_count": 9,
      "outputs": []
    },
    {
      "cell_type": "code",
      "source": [
        "DATA_DIR = \"/content/drive/MyDrive/Colab Notebooks/Private_Island_Project/Island_Project/Data\"\n"
      ],
      "metadata": {
        "id": "yf9f-o6T6f0O"
      },
      "execution_count": 10,
      "outputs": []
    },
    {
      "cell_type": "code",
      "source": [
        "output = pd.DataFrame()\n",
        "Driver = get_driver()\n",
        "counter = 0\n",
        "\n",
        "for url in test_url:\n",
        "\n",
        "  Driver.get(url)\n",
        "  print(f\"index {counter}/611; title is: {Driver.title}\")\n",
        "\n",
        "  time.sleep(5)\n",
        "\n",
        "\n",
        "  # extracting the text part of islands-details section\n",
        "  basic_info = Driver.find_element(By.ID,\"island-details\")\n",
        "\n",
        "  # cleaning the extracted text\n",
        "  to_delete = ['FOR SALE','EUR','GBP','AUD','CAD','CZK','DKK','HKD','HUF','ILS',\n",
        "              'JPY','MXN','NOK','NZD','PHP','PLN','SGD','SEK','CHF','TWD','THB',\n",
        "              'UAH','ISK','HRK','RON','BGN','TRY','CLP','ZAR','BRL','MYR','RUB',\n",
        "              'IDR','INR','KRW','CNY', 'USD','Back','Print','What is a blackbook Listing?',\n",
        "              'Blackbook private island listings are available to the public, without','For Sale']\n",
        "  basic_text = basic_info.text\n",
        "  clean_text = re.sub(r'(\\n\\n\\n\\n\\n\\n\\n\\n|\\n\\n)', '', basic_text)\n",
        "  lines = clean_text.split(\"\\n\")\n",
        "  clean_list = [line for line in lines if not any(sub_delete in line for sub_delete in to_delete)]\n",
        "\n",
        "  # Splitting the created list into dictionary key values\n",
        "  keys, values = zigzag(clean_list)\n",
        "\n",
        "  #print(clean_text)\n",
        "  # print(keys)\n",
        "  # print('\\n')\n",
        "  # print(values)\n",
        "\n",
        "  [v.replace(\"[\",\"\").replace(\"]\",\"\") for v in values]\n",
        "  #print(values)\n",
        "  keys[-1] = 'Details'\n",
        "  # creating a dictionary of the results\n",
        "  res = defaultdict(list)\n",
        "  for i, j in zip(keys, values):\n",
        "    res[i].append(j)\n",
        "  dict(res)\n",
        "\n",
        "  # appending dictionary to dataframe\n",
        "\n",
        "  df_dictionary = pd.DataFrame(res)\n",
        "  output = pd.concat([output, df_dictionary], ignore_index=True)\n",
        "  #output.head()\n",
        "  counter +=1\n",
        "\n",
        "#Driver.quit()\n"
      ],
      "metadata": {
        "id": "7WZF-YGSxixq",
        "colab": {
          "base_uri": "https://localhost:8080/"
        },
        "outputId": "ff72d74d-2ef0-4903-aa54-ad48b800a773"
      },
      "execution_count": 18,
      "outputs": [
        {
          "output_type": "stream",
          "name": "stdout",
          "text": [
            "index 0/611; title is: 2867 - Spain, Europe - Private Islands for Sale\n",
            "index 1/611; title is: Rangyai Island - Thailand, Asia - Private Islands for Sale\n"
          ]
        }
      ]
    },
    {
      "cell_type": "code",
      "source": [
        "output"
      ],
      "metadata": {
        "colab": {
          "base_uri": "https://localhost:8080/",
          "height": 112
        },
        "id": "HFMdbdZBGFSB",
        "outputId": "c066b9b1-637f-429f-f9c8-270086094c54"
      },
      "execution_count": 19,
      "outputs": [
        {
          "output_type": "execute_result",
          "data": {
            "text/plain": [
              "                          Name           Region Development     Title  \\\n",
              "0  Blackbook Listing (ID 2867)   Spain , Europe   Developed  Freehold   \n",
              "1               Rangyai Island  Thailand , Asia   Developed  Freehold   \n",
              "\n",
              "             Type                        Price             Size  \\\n",
              "0  Private Island  $100,000,000 - $200,000,000  100 - 200 Acres   \n",
              "1  Private Island                $ 160,000,000     110.00 Acres   \n",
              "\n",
              "                                          Lifestyles  \\\n",
              "0  Large Acreage, Ocean Island, Turn Key, Income ...   \n",
              "1  Islands With Beaches, Large Acreage, Ocean Isl...   \n",
              "\n",
              "                                             Details        Location  \n",
              "0  Large turnkey private island available for sal...             NaN  \n",
              "1  Located just east of the island of Phuket, an ...  East of Phuket  "
            ],
            "text/html": [
              "\n",
              "\n",
              "  <div id=\"df-43bd8a5d-7db5-4911-b09c-9bf7dc2329af\">\n",
              "    <div class=\"colab-df-container\">\n",
              "      <div>\n",
              "<style scoped>\n",
              "    .dataframe tbody tr th:only-of-type {\n",
              "        vertical-align: middle;\n",
              "    }\n",
              "\n",
              "    .dataframe tbody tr th {\n",
              "        vertical-align: top;\n",
              "    }\n",
              "\n",
              "    .dataframe thead th {\n",
              "        text-align: right;\n",
              "    }\n",
              "</style>\n",
              "<table border=\"1\" class=\"dataframe\">\n",
              "  <thead>\n",
              "    <tr style=\"text-align: right;\">\n",
              "      <th></th>\n",
              "      <th>Name</th>\n",
              "      <th>Region</th>\n",
              "      <th>Development</th>\n",
              "      <th>Title</th>\n",
              "      <th>Type</th>\n",
              "      <th>Price</th>\n",
              "      <th>Size</th>\n",
              "      <th>Lifestyles</th>\n",
              "      <th>Details</th>\n",
              "      <th>Location</th>\n",
              "    </tr>\n",
              "  </thead>\n",
              "  <tbody>\n",
              "    <tr>\n",
              "      <th>0</th>\n",
              "      <td>Blackbook Listing (ID 2867)</td>\n",
              "      <td>Spain , Europe</td>\n",
              "      <td>Developed</td>\n",
              "      <td>Freehold</td>\n",
              "      <td>Private Island</td>\n",
              "      <td>$100,000,000 - $200,000,000</td>\n",
              "      <td>100 - 200 Acres</td>\n",
              "      <td>Large Acreage, Ocean Island, Turn Key, Income ...</td>\n",
              "      <td>Large turnkey private island available for sal...</td>\n",
              "      <td>NaN</td>\n",
              "    </tr>\n",
              "    <tr>\n",
              "      <th>1</th>\n",
              "      <td>Rangyai Island</td>\n",
              "      <td>Thailand , Asia</td>\n",
              "      <td>Developed</td>\n",
              "      <td>Freehold</td>\n",
              "      <td>Private Island</td>\n",
              "      <td>$ 160,000,000</td>\n",
              "      <td>110.00 Acres</td>\n",
              "      <td>Islands With Beaches, Large Acreage, Ocean Isl...</td>\n",
              "      <td>Located just east of the island of Phuket, an ...</td>\n",
              "      <td>East of Phuket</td>\n",
              "    </tr>\n",
              "  </tbody>\n",
              "</table>\n",
              "</div>\n",
              "      <button class=\"colab-df-convert\" onclick=\"convertToInteractive('df-43bd8a5d-7db5-4911-b09c-9bf7dc2329af')\"\n",
              "              title=\"Convert this dataframe to an interactive table.\"\n",
              "              style=\"display:none;\">\n",
              "\n",
              "  <svg xmlns=\"http://www.w3.org/2000/svg\" height=\"24px\"viewBox=\"0 0 24 24\"\n",
              "       width=\"24px\">\n",
              "    <path d=\"M0 0h24v24H0V0z\" fill=\"none\"/>\n",
              "    <path d=\"M18.56 5.44l.94 2.06.94-2.06 2.06-.94-2.06-.94-.94-2.06-.94 2.06-2.06.94zm-11 1L8.5 8.5l.94-2.06 2.06-.94-2.06-.94L8.5 2.5l-.94 2.06-2.06.94zm10 10l.94 2.06.94-2.06 2.06-.94-2.06-.94-.94-2.06-.94 2.06-2.06.94z\"/><path d=\"M17.41 7.96l-1.37-1.37c-.4-.4-.92-.59-1.43-.59-.52 0-1.04.2-1.43.59L10.3 9.45l-7.72 7.72c-.78.78-.78 2.05 0 2.83L4 21.41c.39.39.9.59 1.41.59.51 0 1.02-.2 1.41-.59l7.78-7.78 2.81-2.81c.8-.78.8-2.07 0-2.86zM5.41 20L4 18.59l7.72-7.72 1.47 1.35L5.41 20z\"/>\n",
              "  </svg>\n",
              "      </button>\n",
              "\n",
              "\n",
              "\n",
              "    <div id=\"df-16275cf6-1626-4f44-bac1-f5922974742d\">\n",
              "      <button class=\"colab-df-quickchart\" onclick=\"quickchart('df-16275cf6-1626-4f44-bac1-f5922974742d')\"\n",
              "              title=\"Suggest charts.\"\n",
              "              style=\"display:none;\">\n",
              "\n",
              "<svg xmlns=\"http://www.w3.org/2000/svg\" height=\"24px\"viewBox=\"0 0 24 24\"\n",
              "     width=\"24px\">\n",
              "    <g>\n",
              "        <path d=\"M19 3H5c-1.1 0-2 .9-2 2v14c0 1.1.9 2 2 2h14c1.1 0 2-.9 2-2V5c0-1.1-.9-2-2-2zM9 17H7v-7h2v7zm4 0h-2V7h2v10zm4 0h-2v-4h2v4z\"/>\n",
              "    </g>\n",
              "</svg>\n",
              "      </button>\n",
              "    </div>\n",
              "\n",
              "<style>\n",
              "  .colab-df-quickchart {\n",
              "    background-color: #E8F0FE;\n",
              "    border: none;\n",
              "    border-radius: 50%;\n",
              "    cursor: pointer;\n",
              "    display: none;\n",
              "    fill: #1967D2;\n",
              "    height: 32px;\n",
              "    padding: 0 0 0 0;\n",
              "    width: 32px;\n",
              "  }\n",
              "\n",
              "  .colab-df-quickchart:hover {\n",
              "    background-color: #E2EBFA;\n",
              "    box-shadow: 0px 1px 2px rgba(60, 64, 67, 0.3), 0px 1px 3px 1px rgba(60, 64, 67, 0.15);\n",
              "    fill: #174EA6;\n",
              "  }\n",
              "\n",
              "  [theme=dark] .colab-df-quickchart {\n",
              "    background-color: #3B4455;\n",
              "    fill: #D2E3FC;\n",
              "  }\n",
              "\n",
              "  [theme=dark] .colab-df-quickchart:hover {\n",
              "    background-color: #434B5C;\n",
              "    box-shadow: 0px 1px 3px 1px rgba(0, 0, 0, 0.15);\n",
              "    filter: drop-shadow(0px 1px 2px rgba(0, 0, 0, 0.3));\n",
              "    fill: #FFFFFF;\n",
              "  }\n",
              "</style>\n",
              "\n",
              "    <script>\n",
              "      async function quickchart(key) {\n",
              "        const containerElement = document.querySelector('#' + key);\n",
              "        const charts = await google.colab.kernel.invokeFunction(\n",
              "            'suggestCharts', [key], {});\n",
              "      }\n",
              "    </script>\n",
              "\n",
              "      <script>\n",
              "\n",
              "function displayQuickchartButton(domScope) {\n",
              "  let quickchartButtonEl =\n",
              "    domScope.querySelector('#df-16275cf6-1626-4f44-bac1-f5922974742d button.colab-df-quickchart');\n",
              "  quickchartButtonEl.style.display =\n",
              "    google.colab.kernel.accessAllowed ? 'block' : 'none';\n",
              "}\n",
              "\n",
              "        displayQuickchartButton(document);\n",
              "      </script>\n",
              "      <style>\n",
              "    .colab-df-container {\n",
              "      display:flex;\n",
              "      flex-wrap:wrap;\n",
              "      gap: 12px;\n",
              "    }\n",
              "\n",
              "    .colab-df-convert {\n",
              "      background-color: #E8F0FE;\n",
              "      border: none;\n",
              "      border-radius: 50%;\n",
              "      cursor: pointer;\n",
              "      display: none;\n",
              "      fill: #1967D2;\n",
              "      height: 32px;\n",
              "      padding: 0 0 0 0;\n",
              "      width: 32px;\n",
              "    }\n",
              "\n",
              "    .colab-df-convert:hover {\n",
              "      background-color: #E2EBFA;\n",
              "      box-shadow: 0px 1px 2px rgba(60, 64, 67, 0.3), 0px 1px 3px 1px rgba(60, 64, 67, 0.15);\n",
              "      fill: #174EA6;\n",
              "    }\n",
              "\n",
              "    [theme=dark] .colab-df-convert {\n",
              "      background-color: #3B4455;\n",
              "      fill: #D2E3FC;\n",
              "    }\n",
              "\n",
              "    [theme=dark] .colab-df-convert:hover {\n",
              "      background-color: #434B5C;\n",
              "      box-shadow: 0px 1px 3px 1px rgba(0, 0, 0, 0.15);\n",
              "      filter: drop-shadow(0px 1px 2px rgba(0, 0, 0, 0.3));\n",
              "      fill: #FFFFFF;\n",
              "    }\n",
              "  </style>\n",
              "\n",
              "      <script>\n",
              "        const buttonEl =\n",
              "          document.querySelector('#df-43bd8a5d-7db5-4911-b09c-9bf7dc2329af button.colab-df-convert');\n",
              "        buttonEl.style.display =\n",
              "          google.colab.kernel.accessAllowed ? 'block' : 'none';\n",
              "\n",
              "        async function convertToInteractive(key) {\n",
              "          const element = document.querySelector('#df-43bd8a5d-7db5-4911-b09c-9bf7dc2329af');\n",
              "          const dataTable =\n",
              "            await google.colab.kernel.invokeFunction('convertToInteractive',\n",
              "                                                     [key], {});\n",
              "          if (!dataTable) return;\n",
              "\n",
              "          const docLinkHtml = 'Like what you see? Visit the ' +\n",
              "            '<a target=\"_blank\" href=https://colab.research.google.com/notebooks/data_table.ipynb>data table notebook</a>'\n",
              "            + ' to learn more about interactive tables.';\n",
              "          element.innerHTML = '';\n",
              "          dataTable['output_type'] = 'display_data';\n",
              "          await google.colab.output.renderOutput(dataTable, element);\n",
              "          const docLink = document.createElement('div');\n",
              "          docLink.innerHTML = docLinkHtml;\n",
              "          element.appendChild(docLink);\n",
              "        }\n",
              "      </script>\n",
              "    </div>\n",
              "  </div>\n"
            ]
          },
          "metadata": {},
          "execution_count": 19
        }
      ]
    },
    {
      "cell_type": "code",
      "source": [],
      "metadata": {
        "id": "OSf5RMz-GFPO"
      },
      "execution_count": null,
      "outputs": []
    },
    {
      "cell_type": "code",
      "source": [
        "imgs = Driver.find_elements(\"xpath\",\"//img\")\n",
        "img_list = []\n",
        "for img in imgs:\n",
        "    img_list.append(img.get_attribute(\"src\"))\n",
        "\n",
        "gen = (\n",
        "    l for l in img_list\n",
        "    if '.jpeg' in l\n",
        "    )\n",
        "\n"
      ],
      "metadata": {
        "colab": {
          "base_uri": "https://localhost:8080/",
          "height": 205
        },
        "id": "IvEG7K_rxiaz",
        "outputId": "c2d64e26-eda8-4126-b5c2-8ab79503bf82"
      },
      "execution_count": null,
      "outputs": [
        {
          "output_type": "error",
          "ename": "NameError",
          "evalue": "ignored",
          "traceback": [
            "\u001b[0;31m---------------------------------------------------------------------------\u001b[0m",
            "\u001b[0;31mNameError\u001b[0m                                 Traceback (most recent call last)",
            "\u001b[0;32m<ipython-input-275-30c2df94d1c9>\u001b[0m in \u001b[0;36m<cell line: 11>\u001b[0;34m()\u001b[0m\n\u001b[1;32m      9\u001b[0m     )\n\u001b[1;32m     10\u001b[0m \u001b[0;34m\u001b[0m\u001b[0m\n\u001b[0;32m---> 11\u001b[0;31m \u001b[0mnext\u001b[0m\u001b[0;34m(\u001b[0m\u001b[0mgenerator_expression\u001b[0m\u001b[0;34m,\u001b[0m \u001b[0;32mNone\u001b[0m\u001b[0;34m)\u001b[0m\u001b[0;34m\u001b[0m\u001b[0;34m\u001b[0m\u001b[0m\n\u001b[0m",
            "\u001b[0;31mNameError\u001b[0m: name 'generator_expression' is not defined"
          ]
        }
      ]
    },
    {
      "cell_type": "code",
      "source": [
        "next(gen)"
      ],
      "metadata": {
        "colab": {
          "base_uri": "https://localhost:8080/",
          "height": 169
        },
        "id": "B9TCdGqNLxJU",
        "outputId": "fcb1caf6-3069-425b-f708-573f3146cce6"
      },
      "execution_count": null,
      "outputs": [
        {
          "output_type": "error",
          "ename": "StopIteration",
          "evalue": "ignored",
          "traceback": [
            "\u001b[0;31m---------------------------------------------------------------------------\u001b[0m",
            "\u001b[0;31mStopIteration\u001b[0m                             Traceback (most recent call last)",
            "\u001b[0;32m<ipython-input-273-6e72e47198db>\u001b[0m in \u001b[0;36m<cell line: 1>\u001b[0;34m()\u001b[0m\n\u001b[0;32m----> 1\u001b[0;31m \u001b[0mnext\u001b[0m\u001b[0;34m(\u001b[0m\u001b[0mgen\u001b[0m\u001b[0;34m)\u001b[0m\u001b[0;34m\u001b[0m\u001b[0;34m\u001b[0m\u001b[0m\n\u001b[0m",
            "\u001b[0;31mStopIteration\u001b[0m: "
          ]
        }
      ]
    },
    {
      "cell_type": "code",
      "source": [
        "l"
      ],
      "metadata": {
        "colab": {
          "base_uri": "https://localhost:8080/",
          "height": 169
        },
        "id": "rdgFy1FjMWCy",
        "outputId": "4ab12069-a3b1-49ed-952b-cb0f9440b70c"
      },
      "execution_count": null,
      "outputs": [
        {
          "output_type": "error",
          "ename": "NameError",
          "evalue": "ignored",
          "traceback": [
            "\u001b[0;31m---------------------------------------------------------------------------\u001b[0m",
            "\u001b[0;31mNameError\u001b[0m                                 Traceback (most recent call last)",
            "\u001b[0;32m<ipython-input-274-cde25b5e10ad>\u001b[0m in \u001b[0;36m<cell line: 1>\u001b[0;34m()\u001b[0m\n\u001b[0;32m----> 1\u001b[0;31m \u001b[0ml\u001b[0m\u001b[0;34m\u001b[0m\u001b[0;34m\u001b[0m\u001b[0m\n\u001b[0m",
            "\u001b[0;31mNameError\u001b[0m: name 'l' is not defined"
          ]
        }
      ]
    },
    {
      "cell_type": "code",
      "source": [
        "img_list"
      ],
      "metadata": {
        "colab": {
          "base_uri": "https://localhost:8080/"
        },
        "id": "rojDhA5f-NvY",
        "outputId": "45af06c6-e847-4516-9579-f9f203531888"
      },
      "execution_count": null,
      "outputs": [
        {
          "output_type": "execute_result",
          "data": {
            "text/plain": [
              "['https://www.privateislandsonline.com/img/front/new-logo.png',\n",
              " 'https://www.privateislandsonline.com/img/front/logo_small.png',\n",
              " 'https://www.privateislandsonline.com/img/front/navSocialIcon_fb.png',\n",
              " 'https://www.privateislandsonline.com/img/front/navSocialIcon_tw.png',\n",
              " 'https://www.privateislandsonline.com/img/front/navSocialIcon_gp.png',\n",
              " 'https://www.google.com/images/cleardot.gif',\n",
              " 'https://www.google.com/images/cleardot.gif',\n",
              " 'https://www.google.com/images/cleardot.gif',\n",
              " 'https://www.privateislandsonline.com/images/mappoint.png',\n",
              " 'https://www.privateislandsonline.com/uploads/resize/_597_image_fe02c338d8.jpg-1360-1100.jpg',\n",
              " 'https://www.privateislandsonline.com/uploads/resize/_597_image_25bce99231.jpg-1360-1100.jpg',\n",
              " 'https://www.privateislandsonline.com/uploads/resize/_597_image_d24a8525fc.jpg-1360-1100.jpg',\n",
              " 'https://www.privateislandsonline.com/uploads/resize/_597_image_e971b277e1.jpg-1360-1100.jpg',\n",
              " 'https://www.privateislandsonline.com/uploads/resize/_597_image_fe02c338d8.jpg-100-64.jpg',\n",
              " 'https://www.privateislandsonline.com/uploads/resize/_597_image_25bce99231.jpg-100-64.jpg',\n",
              " 'https://www.privateislandsonline.com/uploads/resize/_597_image_d24a8525fc.jpg-100-64.jpg',\n",
              " 'https://www.privateislandsonline.com/uploads/resize/_597_image_e971b277e1.jpg-100-64.jpg',\n",
              " 'https://www.privateislandsonline.com/uploads/resize/_597_image_d24a8525fc.jpg-767-400.jpg',\n",
              " 'https://www.privateislandsonline.com/uploads/resize/_597_image_e971b277e1.jpg-767-400.jpg',\n",
              " 'https://www.privateislandsonline.com/uploads/resize/_597_image_fe02c338d8.jpg-767-400.jpg',\n",
              " 'https://www.privateislandsonline.com/uploads/resize/_597_image_25bce99231.jpg-767-400.jpg',\n",
              " 'https://www.privateislandsonline.com/uploads/resize/_597_image_d24a8525fc.jpg-767-400.jpg',\n",
              " 'https://www.privateislandsonline.com/uploads/resize/_597_image_e971b277e1.jpg-767-400.jpg',\n",
              " 'https://www.privateislandsonline.com/uploads/resize/_597_image_fe02c338d8.jpg-767-400.jpg',\n",
              " 'https://www.privateislandsonline.com/uploads/resize/_597_image_25bce99231.jpg-767-400.jpg',\n",
              " 'https://www.privateislandsonline.com/images/map-overlay2.jpg',\n",
              " 'https://www.privateislandsonline.com/images/ajax-loader.gif',\n",
              " 'https://www.privateislandsonline.com/img/arrow-red.png',\n",
              " 'https://fonts.gstatic.com/s/i/productlogos/translate/v14/24px.svg']"
            ]
          },
          "metadata": {},
          "execution_count": 258
        }
      ]
    },
    {
      "cell_type": "code",
      "source": [
        "gen"
      ],
      "metadata": {
        "colab": {
          "base_uri": "https://localhost:8080/"
        },
        "id": "2R3AZROi-NsA",
        "outputId": "a18eefb2-efac-4216-89ea-f0acac210235"
      },
      "execution_count": null,
      "outputs": [
        {
          "output_type": "execute_result",
          "data": {
            "text/plain": [
              "<generator object <genexpr> at 0x7d0261401690>"
            ]
          },
          "metadata": {},
          "execution_count": 260
        }
      ]
    },
    {
      "cell_type": "code",
      "source": [
        "img = Driver.find_elements(\"xpath\",\"//img[@ class = 'owl-item.cloned']\")"
      ],
      "metadata": {
        "id": "dWDC0Pwk-Noa"
      },
      "execution_count": null,
      "outputs": []
    },
    {
      "cell_type": "code",
      "source": [
        "img"
      ],
      "metadata": {
        "colab": {
          "base_uri": "https://localhost:8080/"
        },
        "id": "lFCFc3fF-Nl_",
        "outputId": "51d8f7d4-80e4-418c-c157-88ecccc960ed"
      },
      "execution_count": null,
      "outputs": [
        {
          "output_type": "execute_result",
          "data": {
            "text/plain": [
              "[]"
            ]
          },
          "metadata": {},
          "execution_count": 248
        }
      ]
    },
    {
      "cell_type": "code",
      "source": [
        "imgs"
      ],
      "metadata": {
        "colab": {
          "base_uri": "https://localhost:8080/"
        },
        "id": "EM-FLThu-Ni8",
        "outputId": "24e65502-7702-4189-c062-5a83804f1f1b"
      },
      "execution_count": null,
      "outputs": [
        {
          "output_type": "execute_result",
          "data": {
            "text/plain": [
              "[]"
            ]
          },
          "metadata": {},
          "execution_count": 255
        }
      ]
    }
  ]
}